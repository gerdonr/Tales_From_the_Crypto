{
 "cells": [
  {
   "cell_type": "markdown",
   "metadata": {},
   "source": [
    "# News Headlines Sentiment\n",
    "### We will use the news api to pull the latest news articles for bitcoin and ethereum and create a DataFrame of sentiment scores for each coin. Use descriptive statistics to answer the following questions:\n",
    "#### 1) Which coin had the highest mean positive score?\n",
    "#### **Bitcoin had the higher mean positive score with 0.0649 vs Ethereum's score of 0.0643**\n",
    "#### 2) Which coin had the highest negative score?\n",
    "#### **Bitcoin had the highest negative score with 0.215 vs Ethereum's 0.196**\n",
    "#### 3) Which coin had the highest positive score?\n",
    "#### **Ethereum had the highest positive score with 0.318 vs Bitcoin's 0.174**"
   ]
  },
  {
   "cell_type": "code",
   "execution_count": 13,
   "metadata": {},
   "outputs": [],
   "source": [
    "# Initial imports\n",
    "import os\n",
    "import pandas as pd\n",
    "from dotenv import load_dotenv\n",
    "from nltk.sentiment.vader import SentimentIntensityAnalyzer\n",
    "analyzer = SentimentIntensityAnalyzer()\n",
    "from newsapi.newsapi_client import NewsApiClient\n",
    "\n",
    "%matplotlib inline"
   ]
  },
  {
   "cell_type": "code",
   "execution_count": 14,
   "metadata": {},
   "outputs": [],
   "source": [
    "# Read your api key environment variable\n",
    "load_dotenv()\n",
    "\n",
    "# Create a newsapi client\n",
    "newsapi = NewsApiClient(api_key=os.environ[\"NEWS_API_KEY\"])"
   ]
  },
  {
   "cell_type": "code",
   "execution_count": 15,
   "metadata": {},
   "outputs": [
    {
     "name": "stdout",
     "output_type": "stream",
     "text": [
      "Total articles about Bitcoin: 4626\n"
     ]
    },
    {
     "data": {
      "text/plain": [
       "{'source': {'id': 'wired', 'name': 'Wired'},\n",
       " 'author': 'Timothy B. Lee, Ars Technica',\n",
       " 'title': 'An Engineer Gets 9 Years for Stealing $10M From Microsoft',\n",
       " 'description': 'The defendant tried—and failed—to use bitcoin to cover his tracks.',\n",
       " 'url': 'https://www.wired.com/story/an-engineer-gets-9-years-for-stealing-dollar10m-from-microsoft/',\n",
       " 'urlToImage': 'https://media.wired.com/photos/5fac6afb446b4639b3d5b8d8/191:100/w_1280,c_limit/Security-Microsoft-1229426260.jpg',\n",
       " 'publishedAt': '2020-11-12T14:00:00Z',\n",
       " 'content': \"A former Microsoft software engineer from Ukraine has been sentenced to nine years in prison for stealing more than $10 million in store credit from Microsoft's online store. From 2016 to 2018, Volod… [+3307 chars]\"}"
      ]
     },
     "execution_count": 15,
     "metadata": {},
     "output_type": "execute_result"
    }
   ],
   "source": [
    "# Fetch the Bitcoin news articles\n",
    "bitcoin_news = newsapi.get_everything(\n",
    "    q=\"bitcoin\",\n",
    "    language=\"en\"\n",
    ")\n",
    "\n",
    "# Print total articles\n",
    "print(f\"Total articles about Bitcoin: {bitcoin_news['totalResults']}\")\n",
    "\n",
    "# Show sample article\n",
    "bitcoin_news[\"articles\"][0]"
   ]
  },
  {
   "cell_type": "code",
   "execution_count": 16,
   "metadata": {},
   "outputs": [
    {
     "name": "stdout",
     "output_type": "stream",
     "text": [
      "Total articles about Ethereum: 1251\n"
     ]
    },
    {
     "data": {
      "text/plain": [
       "{'source': {'id': 'engadget', 'name': 'Engadget'},\n",
       " 'author': 'Karissa Bell',\n",
       " 'title': 'PayPal now lets all US users buy, sell and hold cryptocurrency',\n",
       " 'description': 'PayPal is bringing its newly-announced support for cryptocurrency to all US accounts. It first announced plans to open cryptocurrency trading to US-based users in October, but until now it was only available to a small subset of PayPal account holders. That’s…',\n",
       " 'url': 'https://www.engadget.com/paypal-opens-cryptocurrency-all-us-accounts-210541778.html',\n",
       " 'urlToImage': 'https://o.aolcdn.com/images/dims?resize=1200%2C630&crop=1200%2C630%2C0%2C0&quality=95&image_uri=https%3A%2F%2Fs.yimg.com%2Fos%2Fcreatr-uploaded-images%2F2020-11%2F4e1af080-2528-11eb-bbdf-193e571d142a&client=amp-blogside-v2&signature=22ad23dde6ee3e667a8067a4c39e1962659cec92',\n",
       " 'publishedAt': '2020-11-12T21:05:41Z',\n",
       " 'content': 'PayPal is bringing its newly-announced support for cryptocurrency to all US accounts. It first announced plans to open cryptocurrency trading to US-based users in October, but until now it was only a… [+589 chars]'}"
      ]
     },
     "execution_count": 16,
     "metadata": {},
     "output_type": "execute_result"
    }
   ],
   "source": [
    "# Fetch the Ethereum news articles\n",
    "ethereum_news = newsapi.get_everything(\n",
    "    q=\"ethereum\",\n",
    "    language=\"en\"\n",
    ")\n",
    "\n",
    "# Print total articles\n",
    "print(f\"Total articles about Ethereum: {ethereum_news['totalResults']}\")\n",
    "\n",
    "# Show sample article\n",
    "ethereum_news[\"articles\"][0]"
   ]
  },
  {
   "cell_type": "code",
   "execution_count": 61,
   "metadata": {},
   "outputs": [
    {
     "data": {
      "text/html": [
       "<div>\n",
       "<style scoped>\n",
       "    .dataframe tbody tr th:only-of-type {\n",
       "        vertical-align: middle;\n",
       "    }\n",
       "\n",
       "    .dataframe tbody tr th {\n",
       "        vertical-align: top;\n",
       "    }\n",
       "\n",
       "    .dataframe thead th {\n",
       "        text-align: right;\n",
       "    }\n",
       "</style>\n",
       "<table border=\"1\" class=\"dataframe\">\n",
       "  <thead>\n",
       "    <tr style=\"text-align: right;\">\n",
       "      <th></th>\n",
       "      <th>date</th>\n",
       "      <th>compound</th>\n",
       "      <th>positive</th>\n",
       "      <th>negative</th>\n",
       "      <th>neutral</th>\n",
       "      <th>text</th>\n",
       "    </tr>\n",
       "  </thead>\n",
       "  <tbody>\n",
       "    <tr>\n",
       "      <th>0</th>\n",
       "      <td>2020-11-12</td>\n",
       "      <td>-0.6705</td>\n",
       "      <td>0.064</td>\n",
       "      <td>0.199</td>\n",
       "      <td>0.737</td>\n",
       "      <td>A former Microsoft software engineer from Ukra...</td>\n",
       "    </tr>\n",
       "    <tr>\n",
       "      <th>1</th>\n",
       "      <td>2020-12-03</td>\n",
       "      <td>0.6369</td>\n",
       "      <td>0.162</td>\n",
       "      <td>0.000</td>\n",
       "      <td>0.838</td>\n",
       "      <td>Visa has partnered with cryptocurrency startup...</td>\n",
       "    </tr>\n",
       "    <tr>\n",
       "      <th>2</th>\n",
       "      <td>2020-11-12</td>\n",
       "      <td>0.2144</td>\n",
       "      <td>0.053</td>\n",
       "      <td>0.000</td>\n",
       "      <td>0.947</td>\n",
       "      <td>PayPal is bringing its newly-announced support...</td>\n",
       "    </tr>\n",
       "    <tr>\n",
       "      <th>3</th>\n",
       "      <td>2020-11-05</td>\n",
       "      <td>0.2263</td>\n",
       "      <td>0.049</td>\n",
       "      <td>0.000</td>\n",
       "      <td>0.951</td>\n",
       "      <td>Two days ago, about $1 billion worth of bitcoi...</td>\n",
       "    </tr>\n",
       "    <tr>\n",
       "      <th>4</th>\n",
       "      <td>2020-11-20</td>\n",
       "      <td>0.2023</td>\n",
       "      <td>0.050</td>\n",
       "      <td>0.000</td>\n",
       "      <td>0.950</td>\n",
       "      <td>In November 2017, after an absolutely massive,...</td>\n",
       "    </tr>\n",
       "  </tbody>\n",
       "</table>\n",
       "</div>"
      ],
      "text/plain": [
       "         date  compound  positive  negative  neutral  \\\n",
       "0  2020-11-12   -0.6705     0.064     0.199    0.737   \n",
       "1  2020-12-03    0.6369     0.162     0.000    0.838   \n",
       "2  2020-11-12    0.2144     0.053     0.000    0.947   \n",
       "3  2020-11-05    0.2263     0.049     0.000    0.951   \n",
       "4  2020-11-20    0.2023     0.050     0.000    0.950   \n",
       "\n",
       "                                                text  \n",
       "0  A former Microsoft software engineer from Ukra...  \n",
       "1  Visa has partnered with cryptocurrency startup...  \n",
       "2  PayPal is bringing its newly-announced support...  \n",
       "3  Two days ago, about $1 billion worth of bitcoi...  \n",
       "4  In November 2017, after an absolutely massive,...  "
      ]
     },
     "execution_count": 61,
     "metadata": {},
     "output_type": "execute_result"
    }
   ],
   "source": [
    "# Create the Bitcoin sentiment scores DataFrame\n",
    "bitcoin_sentiments = []\n",
    "\n",
    "for article in bitcoin_news[\"articles\"]:\n",
    "    try:\n",
    "        text = article[\"content\"]\n",
    "        date = article[\"publishedAt\"][:10]\n",
    "        sentiment = analyzer.polarity_scores(text)\n",
    "        compound = sentiment[\"compound\"]\n",
    "        pos = sentiment[\"pos\"]\n",
    "        neu = sentiment[\"neu\"]\n",
    "        neg = sentiment[\"neg\"]\n",
    "        \n",
    "        bitcoin_sentiments.append({\n",
    "            \"text\": text,\n",
    "            \"date\": date,\n",
    "            \"compound\": compound,\n",
    "            \"positive\": pos,\n",
    "            \"negative\": neg,\n",
    "            \"neutral\": neu\n",
    "            \n",
    "        })\n",
    "        \n",
    "    except AttributeError:\n",
    "        pass\n",
    "    \n",
    "# Create DataFrame\n",
    "bitcoin_df = pd.DataFrame(bitcoin_sentiments)\n",
    "\n",
    "# Reorder DataFrame columns\n",
    "cols = [\"date\", \"compound\", \"positive\", \"negative\", \"neutral\", \"text\"]\n",
    "bitcoin_df = bitcoin_df[cols]\n",
    "\n",
    "bitcoin_df.head()"
   ]
  },
  {
   "cell_type": "code",
   "execution_count": 58,
   "metadata": {},
   "outputs": [
    {
     "data": {
      "text/html": [
       "<div>\n",
       "<style scoped>\n",
       "    .dataframe tbody tr th:only-of-type {\n",
       "        vertical-align: middle;\n",
       "    }\n",
       "\n",
       "    .dataframe tbody tr th {\n",
       "        vertical-align: top;\n",
       "    }\n",
       "\n",
       "    .dataframe thead th {\n",
       "        text-align: right;\n",
       "    }\n",
       "</style>\n",
       "<table border=\"1\" class=\"dataframe\">\n",
       "  <thead>\n",
       "    <tr style=\"text-align: right;\">\n",
       "      <th></th>\n",
       "      <th>date</th>\n",
       "      <th>compound</th>\n",
       "      <th>positive</th>\n",
       "      <th>negative</th>\n",
       "      <th>neutral</th>\n",
       "      <th>text</th>\n",
       "    </tr>\n",
       "  </thead>\n",
       "  <tbody>\n",
       "    <tr>\n",
       "      <th>0</th>\n",
       "      <td>2020-11-12</td>\n",
       "      <td>0.2144</td>\n",
       "      <td>0.053</td>\n",
       "      <td>0.0</td>\n",
       "      <td>0.947</td>\n",
       "      <td>PayPal is bringing its newly-announced support...</td>\n",
       "    </tr>\n",
       "    <tr>\n",
       "      <th>1</th>\n",
       "      <td>2020-11-23</td>\n",
       "      <td>0.0000</td>\n",
       "      <td>0.000</td>\n",
       "      <td>0.0</td>\n",
       "      <td>1.000</td>\n",
       "      <td>FILE PHOTO: Representation of the Ethereum vir...</td>\n",
       "    </tr>\n",
       "    <tr>\n",
       "      <th>2</th>\n",
       "      <td>2020-11-23</td>\n",
       "      <td>0.0000</td>\n",
       "      <td>0.000</td>\n",
       "      <td>0.0</td>\n",
       "      <td>1.000</td>\n",
       "      <td>FILE PHOTO: Representation of the Ethereum vir...</td>\n",
       "    </tr>\n",
       "    <tr>\n",
       "      <th>3</th>\n",
       "      <td>2020-11-23</td>\n",
       "      <td>0.4215</td>\n",
       "      <td>0.088</td>\n",
       "      <td>0.0</td>\n",
       "      <td>0.912</td>\n",
       "      <td>LONDON (Reuters) - Digital currencies Ethereum...</td>\n",
       "    </tr>\n",
       "    <tr>\n",
       "      <th>4</th>\n",
       "      <td>2020-11-19</td>\n",
       "      <td>0.8779</td>\n",
       "      <td>0.318</td>\n",
       "      <td>0.0</td>\n",
       "      <td>0.682</td>\n",
       "      <td>PayPal has launched the Generosity Network, a ...</td>\n",
       "    </tr>\n",
       "  </tbody>\n",
       "</table>\n",
       "</div>"
      ],
      "text/plain": [
       "         date  compound  positive  negative  neutral  \\\n",
       "0  2020-11-12    0.2144     0.053       0.0    0.947   \n",
       "1  2020-11-23    0.0000     0.000       0.0    1.000   \n",
       "2  2020-11-23    0.0000     0.000       0.0    1.000   \n",
       "3  2020-11-23    0.4215     0.088       0.0    0.912   \n",
       "4  2020-11-19    0.8779     0.318       0.0    0.682   \n",
       "\n",
       "                                                text  \n",
       "0  PayPal is bringing its newly-announced support...  \n",
       "1  FILE PHOTO: Representation of the Ethereum vir...  \n",
       "2  FILE PHOTO: Representation of the Ethereum vir...  \n",
       "3  LONDON (Reuters) - Digital currencies Ethereum...  \n",
       "4  PayPal has launched the Generosity Network, a ...  "
      ]
     },
     "execution_count": 58,
     "metadata": {},
     "output_type": "execute_result"
    }
   ],
   "source": [
    "# Create the ethereum sentiment scores DataFrame\n",
    "ethereum_sentiments = []\n",
    "\n",
    "for article in ethereum_news[\"articles\"]:\n",
    "    try:\n",
    "        text = article[\"content\"]\n",
    "        date = article[\"publishedAt\"][:10]\n",
    "        sentiment = analyzer.polarity_scores(text)\n",
    "        compound = sentiment[\"compound\"]\n",
    "        pos = sentiment[\"pos\"]\n",
    "        neu = sentiment[\"neu\"]\n",
    "        neg = sentiment[\"neg\"]\n",
    "        \n",
    "        ethereum_sentiments.append({\n",
    "            \"text\": text,\n",
    "            \"date\": date,\n",
    "            \"compound\": compound,\n",
    "            \"positive\": pos,\n",
    "            \"negative\": neg,\n",
    "            \"neutral\": neu\n",
    "            \n",
    "        })\n",
    "        \n",
    "    except AttributeError:\n",
    "        pass\n",
    "    \n",
    "# Create DataFrame\n",
    "ethereum_df = pd.DataFrame(ethereum_sentiments)\n",
    "\n",
    "# Reorder DataFrame columns\n",
    "cols = [\"date\", \"compound\", \"positive\", \"negative\", \"neutral\", \"text\"]\n",
    "ethereum_df = ethereum_df[cols]\n",
    "\n",
    "ethereum_df.head()"
   ]
  },
  {
   "cell_type": "code",
   "execution_count": 59,
   "metadata": {},
   "outputs": [
    {
     "data": {
      "text/html": [
       "<div>\n",
       "<style scoped>\n",
       "    .dataframe tbody tr th:only-of-type {\n",
       "        vertical-align: middle;\n",
       "    }\n",
       "\n",
       "    .dataframe tbody tr th {\n",
       "        vertical-align: top;\n",
       "    }\n",
       "\n",
       "    .dataframe thead th {\n",
       "        text-align: right;\n",
       "    }\n",
       "</style>\n",
       "<table border=\"1\" class=\"dataframe\">\n",
       "  <thead>\n",
       "    <tr style=\"text-align: right;\">\n",
       "      <th></th>\n",
       "      <th>compound</th>\n",
       "      <th>positive</th>\n",
       "      <th>negative</th>\n",
       "      <th>neutral</th>\n",
       "    </tr>\n",
       "  </thead>\n",
       "  <tbody>\n",
       "    <tr>\n",
       "      <th>count</th>\n",
       "      <td>19.000000</td>\n",
       "      <td>19.000000</td>\n",
       "      <td>19.000000</td>\n",
       "      <td>19.000000</td>\n",
       "    </tr>\n",
       "    <tr>\n",
       "      <th>mean</th>\n",
       "      <td>0.108116</td>\n",
       "      <td>0.064895</td>\n",
       "      <td>0.034053</td>\n",
       "      <td>0.901000</td>\n",
       "    </tr>\n",
       "    <tr>\n",
       "      <th>std</th>\n",
       "      <td>0.395648</td>\n",
       "      <td>0.061939</td>\n",
       "      <td>0.067692</td>\n",
       "      <td>0.093549</td>\n",
       "    </tr>\n",
       "    <tr>\n",
       "      <th>min</th>\n",
       "      <td>-0.670500</td>\n",
       "      <td>0.000000</td>\n",
       "      <td>0.000000</td>\n",
       "      <td>0.716000</td>\n",
       "    </tr>\n",
       "    <tr>\n",
       "      <th>25%</th>\n",
       "      <td>0.000000</td>\n",
       "      <td>0.000000</td>\n",
       "      <td>0.000000</td>\n",
       "      <td>0.833500</td>\n",
       "    </tr>\n",
       "    <tr>\n",
       "      <th>50%</th>\n",
       "      <td>0.202300</td>\n",
       "      <td>0.053000</td>\n",
       "      <td>0.000000</td>\n",
       "      <td>0.941000</td>\n",
       "    </tr>\n",
       "    <tr>\n",
       "      <th>75%</th>\n",
       "      <td>0.325950</td>\n",
       "      <td>0.093000</td>\n",
       "      <td>0.031000</td>\n",
       "      <td>0.975500</td>\n",
       "    </tr>\n",
       "    <tr>\n",
       "      <th>max</th>\n",
       "      <td>0.765000</td>\n",
       "      <td>0.174000</td>\n",
       "      <td>0.215000</td>\n",
       "      <td>1.000000</td>\n",
       "    </tr>\n",
       "  </tbody>\n",
       "</table>\n",
       "</div>"
      ],
      "text/plain": [
       "        compound   positive   negative    neutral\n",
       "count  19.000000  19.000000  19.000000  19.000000\n",
       "mean    0.108116   0.064895   0.034053   0.901000\n",
       "std     0.395648   0.061939   0.067692   0.093549\n",
       "min    -0.670500   0.000000   0.000000   0.716000\n",
       "25%     0.000000   0.000000   0.000000   0.833500\n",
       "50%     0.202300   0.053000   0.000000   0.941000\n",
       "75%     0.325950   0.093000   0.031000   0.975500\n",
       "max     0.765000   0.174000   0.215000   1.000000"
      ]
     },
     "execution_count": 59,
     "metadata": {},
     "output_type": "execute_result"
    }
   ],
   "source": [
    "# Describe the Bitcoin Sentiment\n",
    "bitcoin_df.describe()"
   ]
  },
  {
   "cell_type": "code",
   "execution_count": 60,
   "metadata": {},
   "outputs": [
    {
     "data": {
      "text/html": [
       "<div>\n",
       "<style scoped>\n",
       "    .dataframe tbody tr th:only-of-type {\n",
       "        vertical-align: middle;\n",
       "    }\n",
       "\n",
       "    .dataframe tbody tr th {\n",
       "        vertical-align: top;\n",
       "    }\n",
       "\n",
       "    .dataframe thead th {\n",
       "        text-align: right;\n",
       "    }\n",
       "</style>\n",
       "<table border=\"1\" class=\"dataframe\">\n",
       "  <thead>\n",
       "    <tr style=\"text-align: right;\">\n",
       "      <th></th>\n",
       "      <th>compound</th>\n",
       "      <th>positive</th>\n",
       "      <th>negative</th>\n",
       "      <th>neutral</th>\n",
       "    </tr>\n",
       "  </thead>\n",
       "  <tbody>\n",
       "    <tr>\n",
       "      <th>count</th>\n",
       "      <td>20.000000</td>\n",
       "      <td>20.00000</td>\n",
       "      <td>20.000000</td>\n",
       "      <td>20.000000</td>\n",
       "    </tr>\n",
       "    <tr>\n",
       "      <th>mean</th>\n",
       "      <td>0.153245</td>\n",
       "      <td>0.06430</td>\n",
       "      <td>0.021050</td>\n",
       "      <td>0.914650</td>\n",
       "    </tr>\n",
       "    <tr>\n",
       "      <th>std</th>\n",
       "      <td>0.339247</td>\n",
       "      <td>0.07896</td>\n",
       "      <td>0.054473</td>\n",
       "      <td>0.104806</td>\n",
       "    </tr>\n",
       "    <tr>\n",
       "      <th>min</th>\n",
       "      <td>-0.493900</td>\n",
       "      <td>0.00000</td>\n",
       "      <td>0.000000</td>\n",
       "      <td>0.672000</td>\n",
       "    </tr>\n",
       "    <tr>\n",
       "      <th>25%</th>\n",
       "      <td>0.000000</td>\n",
       "      <td>0.00000</td>\n",
       "      <td>0.000000</td>\n",
       "      <td>0.876000</td>\n",
       "    </tr>\n",
       "    <tr>\n",
       "      <th>50%</th>\n",
       "      <td>0.000000</td>\n",
       "      <td>0.06150</td>\n",
       "      <td>0.000000</td>\n",
       "      <td>0.932000</td>\n",
       "    </tr>\n",
       "    <tr>\n",
       "      <th>75%</th>\n",
       "      <td>0.430825</td>\n",
       "      <td>0.09525</td>\n",
       "      <td>0.000000</td>\n",
       "      <td>1.000000</td>\n",
       "    </tr>\n",
       "    <tr>\n",
       "      <th>max</th>\n",
       "      <td>0.877900</td>\n",
       "      <td>0.31800</td>\n",
       "      <td>0.196000</td>\n",
       "      <td>1.000000</td>\n",
       "    </tr>\n",
       "  </tbody>\n",
       "</table>\n",
       "</div>"
      ],
      "text/plain": [
       "        compound  positive   negative    neutral\n",
       "count  20.000000  20.00000  20.000000  20.000000\n",
       "mean    0.153245   0.06430   0.021050   0.914650\n",
       "std     0.339247   0.07896   0.054473   0.104806\n",
       "min    -0.493900   0.00000   0.000000   0.672000\n",
       "25%     0.000000   0.00000   0.000000   0.876000\n",
       "50%     0.000000   0.06150   0.000000   0.932000\n",
       "75%     0.430825   0.09525   0.000000   1.000000\n",
       "max     0.877900   0.31800   0.196000   1.000000"
      ]
     },
     "execution_count": 60,
     "metadata": {},
     "output_type": "execute_result"
    }
   ],
   "source": [
    "# Describe the Ethereum Sentiment\n",
    "ethereum_df.describe()"
   ]
  },
  {
   "cell_type": "markdown",
   "metadata": {},
   "source": [
    "## Questions:\n",
    "### Q: Which coin had the highest mean positive score?\n",
    "#### A: **Bitcoin had the higher mean positive score with 0.065 vs Ethereum's score of 0.064**\n",
    "### Q: Which coin had the highest compound score?\n",
    "#### A: **Ethereum had the highest compound score with 0.877 vs Bitcoin's 0.765**\n",
    "### Q. Which coin had the highest positive score?\n",
    "#### A:**Ethereum had the highest positive score with 0.318 vs Bitcoin's 0.174**"
   ]
  },
  {
   "cell_type": "markdown",
   "metadata": {},
   "source": [
    "## Tokenizer\n",
    "### In this section, we will use NLTK and Python to tokenize the text for each coin. We will make sure to:\n",
    "#### 1) Lowercase each word\n",
    "#### 2) Remove Punctuation\n",
    "#### 3) Remove Stopwords"
   ]
  },
  {
   "cell_type": "code",
   "execution_count": 24,
   "metadata": {},
   "outputs": [],
   "source": [
    "from nltk.tokenize import word_tokenize, sent_tokenize\n",
    "from nltk.corpus import stopwords\n",
    "from nltk.stem import WordNetLemmatizer, PorterStemmer\n",
    "from string import punctuation\n",
    "import re"
   ]
  },
  {
   "cell_type": "code",
   "execution_count": 25,
   "metadata": {},
   "outputs": [],
   "source": [
    "# Expand the default stopwords list if necessary\n",
    "# YOUR CODE HERE!"
   ]
  },
  {
   "cell_type": "code",
   "execution_count": 26,
   "metadata": {},
   "outputs": [],
   "source": [
    "# Instantiate the lemmatizer\n",
    "lemmatizer = WordNetLemmatizer() "
   ]
  },
  {
   "cell_type": "code",
   "execution_count": 64,
   "metadata": {},
   "outputs": [],
   "source": [
    "# Complete the tokenizer function\n",
    "def tokenizer(text):\n",
    "    \"\"\"Tokenizes text.\"\"\"\n",
    "    \n",
    "    sw = set(stopwords.words('english'))\n",
    "    regex = re.compile(\"[^a-zA-Z ]\")\n",
    "    re_clean = regex.sub('', text)\n",
    "    words = word_tokenize(re_clean)\n",
    "    lem = [lemmatizer.lemmatize(word) for word in words]\n",
    "    tokens = [word.lower() for word in lem if word.lower() not in sw]\n",
    "    \n",
    "    return tokens"
   ]
  },
  {
   "cell_type": "code",
   "execution_count": 65,
   "metadata": {},
   "outputs": [
    {
     "data": {
      "text/html": [
       "<div>\n",
       "<style scoped>\n",
       "    .dataframe tbody tr th:only-of-type {\n",
       "        vertical-align: middle;\n",
       "    }\n",
       "\n",
       "    .dataframe tbody tr th {\n",
       "        vertical-align: top;\n",
       "    }\n",
       "\n",
       "    .dataframe thead th {\n",
       "        text-align: right;\n",
       "    }\n",
       "</style>\n",
       "<table border=\"1\" class=\"dataframe\">\n",
       "  <thead>\n",
       "    <tr style=\"text-align: right;\">\n",
       "      <th></th>\n",
       "      <th>date</th>\n",
       "      <th>compound</th>\n",
       "      <th>positive</th>\n",
       "      <th>negative</th>\n",
       "      <th>neutral</th>\n",
       "      <th>text</th>\n",
       "      <th>tokens</th>\n",
       "    </tr>\n",
       "  </thead>\n",
       "  <tbody>\n",
       "    <tr>\n",
       "      <th>0</th>\n",
       "      <td>2020-11-12</td>\n",
       "      <td>-0.6705</td>\n",
       "      <td>0.064</td>\n",
       "      <td>0.199</td>\n",
       "      <td>0.737</td>\n",
       "      <td>A former Microsoft software engineer from Ukra...</td>\n",
       "      <td>[former, microsoft, software, engineer, ukrain...</td>\n",
       "    </tr>\n",
       "    <tr>\n",
       "      <th>1</th>\n",
       "      <td>2020-12-03</td>\n",
       "      <td>0.6369</td>\n",
       "      <td>0.162</td>\n",
       "      <td>0.000</td>\n",
       "      <td>0.838</td>\n",
       "      <td>Visa has partnered with cryptocurrency startup...</td>\n",
       "      <td>[visahas, partnered, cryptocurrency, startup, ...</td>\n",
       "    </tr>\n",
       "    <tr>\n",
       "      <th>2</th>\n",
       "      <td>2020-11-12</td>\n",
       "      <td>0.2144</td>\n",
       "      <td>0.053</td>\n",
       "      <td>0.000</td>\n",
       "      <td>0.947</td>\n",
       "      <td>PayPal is bringing its newly-announced support...</td>\n",
       "      <td>[paypal, bringing, newlyannounced, support, cr...</td>\n",
       "    </tr>\n",
       "    <tr>\n",
       "      <th>3</th>\n",
       "      <td>2020-11-05</td>\n",
       "      <td>0.2263</td>\n",
       "      <td>0.049</td>\n",
       "      <td>0.000</td>\n",
       "      <td>0.951</td>\n",
       "      <td>Two days ago, about $1 billion worth of bitcoi...</td>\n",
       "      <td>[two, day, ago, billion, worth, bitcoin, sat, ...</td>\n",
       "    </tr>\n",
       "    <tr>\n",
       "      <th>4</th>\n",
       "      <td>2020-11-20</td>\n",
       "      <td>0.2023</td>\n",
       "      <td>0.050</td>\n",
       "      <td>0.000</td>\n",
       "      <td>0.950</td>\n",
       "      <td>In November 2017, after an absolutely massive,...</td>\n",
       "      <td>[november, absolutely, massive, twomonth, rall...</td>\n",
       "    </tr>\n",
       "  </tbody>\n",
       "</table>\n",
       "</div>"
      ],
      "text/plain": [
       "         date  compound  positive  negative  neutral  \\\n",
       "0  2020-11-12   -0.6705     0.064     0.199    0.737   \n",
       "1  2020-12-03    0.6369     0.162     0.000    0.838   \n",
       "2  2020-11-12    0.2144     0.053     0.000    0.947   \n",
       "3  2020-11-05    0.2263     0.049     0.000    0.951   \n",
       "4  2020-11-20    0.2023     0.050     0.000    0.950   \n",
       "\n",
       "                                                text  \\\n",
       "0  A former Microsoft software engineer from Ukra...   \n",
       "1  Visa has partnered with cryptocurrency startup...   \n",
       "2  PayPal is bringing its newly-announced support...   \n",
       "3  Two days ago, about $1 billion worth of bitcoi...   \n",
       "4  In November 2017, after an absolutely massive,...   \n",
       "\n",
       "                                              tokens  \n",
       "0  [former, microsoft, software, engineer, ukrain...  \n",
       "1  [visahas, partnered, cryptocurrency, startup, ...  \n",
       "2  [paypal, bringing, newlyannounced, support, cr...  \n",
       "3  [two, day, ago, billion, worth, bitcoin, sat, ...  \n",
       "4  [november, absolutely, massive, twomonth, rall...  "
      ]
     },
     "execution_count": 65,
     "metadata": {},
     "output_type": "execute_result"
    }
   ],
   "source": [
    "# Create a new tokens column for bitcoin\n",
    "bitcoin_df[\"tokens\"] = bitcoin_df.text.apply(tokenizer)\n",
    "bitcoin_df.head()"
   ]
  },
  {
   "cell_type": "code",
   "execution_count": 67,
   "metadata": {},
   "outputs": [
    {
     "data": {
      "text/html": [
       "<div>\n",
       "<style scoped>\n",
       "    .dataframe tbody tr th:only-of-type {\n",
       "        vertical-align: middle;\n",
       "    }\n",
       "\n",
       "    .dataframe tbody tr th {\n",
       "        vertical-align: top;\n",
       "    }\n",
       "\n",
       "    .dataframe thead th {\n",
       "        text-align: right;\n",
       "    }\n",
       "</style>\n",
       "<table border=\"1\" class=\"dataframe\">\n",
       "  <thead>\n",
       "    <tr style=\"text-align: right;\">\n",
       "      <th></th>\n",
       "      <th>date</th>\n",
       "      <th>compound</th>\n",
       "      <th>positive</th>\n",
       "      <th>negative</th>\n",
       "      <th>neutral</th>\n",
       "      <th>text</th>\n",
       "      <th>tokens</th>\n",
       "    </tr>\n",
       "  </thead>\n",
       "  <tbody>\n",
       "    <tr>\n",
       "      <th>0</th>\n",
       "      <td>2020-11-12</td>\n",
       "      <td>0.2144</td>\n",
       "      <td>0.053</td>\n",
       "      <td>0.0</td>\n",
       "      <td>0.947</td>\n",
       "      <td>PayPal is bringing its newly-announced support...</td>\n",
       "      <td>[paypal, bringing, newlyannounced, support, cr...</td>\n",
       "    </tr>\n",
       "    <tr>\n",
       "      <th>1</th>\n",
       "      <td>2020-11-23</td>\n",
       "      <td>0.0000</td>\n",
       "      <td>0.000</td>\n",
       "      <td>0.0</td>\n",
       "      <td>1.000</td>\n",
       "      <td>FILE PHOTO: Representation of the Ethereum vir...</td>\n",
       "      <td>[file, photo, representation, ethereum, virtua...</td>\n",
       "    </tr>\n",
       "    <tr>\n",
       "      <th>2</th>\n",
       "      <td>2020-11-23</td>\n",
       "      <td>0.0000</td>\n",
       "      <td>0.000</td>\n",
       "      <td>0.0</td>\n",
       "      <td>1.000</td>\n",
       "      <td>FILE PHOTO: Representation of the Ethereum vir...</td>\n",
       "      <td>[file, photo, representation, ethereum, virtua...</td>\n",
       "    </tr>\n",
       "    <tr>\n",
       "      <th>3</th>\n",
       "      <td>2020-11-23</td>\n",
       "      <td>0.4215</td>\n",
       "      <td>0.088</td>\n",
       "      <td>0.0</td>\n",
       "      <td>0.912</td>\n",
       "      <td>LONDON (Reuters) - Digital currencies Ethereum...</td>\n",
       "      <td>[london, reuters, digital, currency, ethereum,...</td>\n",
       "    </tr>\n",
       "    <tr>\n",
       "      <th>4</th>\n",
       "      <td>2020-11-19</td>\n",
       "      <td>0.8779</td>\n",
       "      <td>0.318</td>\n",
       "      <td>0.0</td>\n",
       "      <td>0.682</td>\n",
       "      <td>PayPal has launched the Generosity Network, a ...</td>\n",
       "      <td>[paypal, ha, launched, generosity, network, pl...</td>\n",
       "    </tr>\n",
       "  </tbody>\n",
       "</table>\n",
       "</div>"
      ],
      "text/plain": [
       "         date  compound  positive  negative  neutral  \\\n",
       "0  2020-11-12    0.2144     0.053       0.0    0.947   \n",
       "1  2020-11-23    0.0000     0.000       0.0    1.000   \n",
       "2  2020-11-23    0.0000     0.000       0.0    1.000   \n",
       "3  2020-11-23    0.4215     0.088       0.0    0.912   \n",
       "4  2020-11-19    0.8779     0.318       0.0    0.682   \n",
       "\n",
       "                                                text  \\\n",
       "0  PayPal is bringing its newly-announced support...   \n",
       "1  FILE PHOTO: Representation of the Ethereum vir...   \n",
       "2  FILE PHOTO: Representation of the Ethereum vir...   \n",
       "3  LONDON (Reuters) - Digital currencies Ethereum...   \n",
       "4  PayPal has launched the Generosity Network, a ...   \n",
       "\n",
       "                                              tokens  \n",
       "0  [paypal, bringing, newlyannounced, support, cr...  \n",
       "1  [file, photo, representation, ethereum, virtua...  \n",
       "2  [file, photo, representation, ethereum, virtua...  \n",
       "3  [london, reuters, digital, currency, ethereum,...  \n",
       "4  [paypal, ha, launched, generosity, network, pl...  "
      ]
     },
     "execution_count": 67,
     "metadata": {},
     "output_type": "execute_result"
    }
   ],
   "source": [
    "# Create a new tokens column for ethereum\n",
    "ethereum_df[\"tokens\"] = ethereum_df.text.apply(tokenizer)\n",
    "ethereum_df.head()"
   ]
  },
  {
   "cell_type": "markdown",
   "metadata": {},
   "source": [
    "## NGrams and Frequency Analysis\n",
    "### In this section we will look at the ngrams and word frequency for each coin. \n",
    "#### 1) Use NLTK to produce the n-grams for N = 2. \n",
    "#### 2) List the top 10 words for each coin."
   ]
  },
  {
   "cell_type": "code",
   "execution_count": 101,
   "metadata": {},
   "outputs": [],
   "source": [
    "from collections import Counter\n",
    "from nltk import ngrams"
   ]
  },
  {
   "cell_type": "code",
   "execution_count": 105,
   "metadata": {},
   "outputs": [
    {
     "name": "stdout",
     "output_type": "stream",
     "text": [
      "['former', 'microsoft', 'software', 'engineer', 'ukraine', 'ha', 'sentenced', 'nine', 'year', 'prison', 'stealing', 'million', 'store', 'credit', 'microsofts', 'online', 'store', 'volod', 'char', 'visahas', 'partnered', 'cryptocurrency', 'startup', 'blockfi', 'offer', 'first', 'reward', 'credit', 'card', 'pay', 'bitcoin', 'rather', 'cash', 'worth', 'applying', 'unless', 'youre', 'extremely', 'bullish', 'char', 'paypal', 'bringing', 'newlyannounced', 'support', 'cryptocurrency', 'us', 'account', 'first', 'announced', 'plan', 'open', 'cryptocurrency', 'trading', 'usbased', 'user', 'october', 'wa', 'char', 'two', 'day', 'ago', 'billion', 'worth', 'bitcoin', 'sat', 'dormant', 'since', 'seizure', 'silk', 'road', 'marketplace', 'one', 'biggest', 'underground', 'drug', 'website', 'dark', 'web', 'suddenly', 'cha', 'char', 'november', 'absolutely', 'massive', 'twomonth', 'rally', 'bitcoin', 'passed', 'first', 'time', 'next', 'day', 'soared', 'even', 'higher', 'reaching', 'price', 'roug', 'char', 'youve', 'watching', 'crypto', 'market', 'past', 'week', 'youll', 'noticed', 'something', 'special', 'bitcoin', 'everyones', 'favorite', 'decentralized', 'digital', 'currency', 'based', 'hype', 'lie', 'general', 'mal', 'char', 'decentralized', 'exchange', 'protocol', 'allow', 'crypto', 'trader', 'investor', 'trade', 'across', 'different', 'blockhains', 'development', 'significant', 'new', 'development', 'come', 'la', 'char', 'joke', 'reality', 'im', 'speaking', 'course', 'tesla', 'tequila', 'previously', 'featured', 'april', 'fools', 'tweet', 'elon', 'musk', 'presec', 'settlement', 'era', 'teslaquila', 'actual', 'drin', 'char', 'us', 'government', 'trying', 'seize', 'individual', 'x', 'already', 'stolen', 'specifically', 'would', 'gargantuan', 'amount', 'cryptocurrencyin', 'surprise', 'reveal', 'mystery', 'thats', 'bedeviled', 'char', 'us', 'market', 'ended', 'november', 'large', 'gain', 'even', 'small', 'decline', 'today', 'sampp', 'jumped', 'percent', 'november', 'best', 'monthly', 'showing', 'since', 'april', 'fourthbest', 'month', 'char', 'maisie', 'williams', 'also', 'known', 'arya', 'stark', 'daughter', 'lady', 'catelyn', 'lord', 'eddard', 'acolyte', 'faceless', 'men', 'know', 'one', 'considering', 'buying', 'bitcoinson', 'monday', 'asked', 'twitt', 'char', 'billion', 'transaction', 'flowed', 'dormant', 'bitcoin', 'wallet', 'allegedly', 'belonging', 'silk', 'road', 'founder', 'ross', 'ulbricht', 'made', 'wave', 'crypto', 'world', 'week', 'causing', 'suspect', 'found', 'char', 'poster', 'participatinga', 'former', 'microsoft', 'software', 'engineer', 'ukraine', 'ha', 'sentenced', 'nine', 'year', 'prison', 'stealing', 'million', 'store', 'credit', 'microsofts', 'online', 'char', 'poster', 'participatingbitcoin', 'rose', 'tuesday', 'evening', 'reaching', 'highest', 'value', 'since', 'december', 'indeed', 'prior', 'week', 'bitcoin', 'ha', 'worth', 'char', 'file', 'photo', 'representations', 'virtual', 'currency', 'bitcoin', 'seen', 'picture', 'illustration', 'taken', 'taken', 'march', 'reutersdado', 'ruvicfile', 'photofuture', 'moneytom', 'wilsongertrude', 'chavez', 'char', 'justin', 'harperbusiness', 'reporter', 'bbc', 'newsimage', 'copyrightgetty', 'imagesbitcoin', 'world', 'bestknown', 'cryptocurrency', 'ha', 'jumped', 'hit', 'threeyear', 'highthe', 'digital', 'cur', 'char', 'posted', 'bitcoin', 'ha', 'grabbed', 'headline', 'week', 'ascent', 'alltime', 'high', 'yet', 'trend', 'ha', 'playing', 'could', 'change', 'face', 'cryptocurrency', 'market', 'massive', 'flow', 'coin', 'char', 'reuters', 'stafffile', 'photo', 'representation', 'virtual', 'currency', 'bitcoin', 'seen', 'illustration', 'taken', 'november', 'reutersdado', 'ruvicillustrationtokyo', 'reuters', 'bitcoin', 'dropped', 'char', 'reuters', 'stafffile', 'photo', 'representations', 'virtual', 'currency', 'bitcoin', 'placed', 'us', 'dollar', 'banknote', 'illustration', 'taken', 'may', 'reutersdado', 'ruvicillustrationlondon', 'reuters', 'char']\n"
     ]
    }
   ],
   "source": [
    "# Generate the Bitcoin Tokens\n",
    "btc_tokens = []\n",
    "for tokens in bitcoin_df.tokens:\n",
    "    btc_tokens += tokens\n",
    "print(btc_tokens)"
   ]
  },
  {
   "cell_type": "code",
   "execution_count": 107,
   "metadata": {},
   "outputs": [
    {
     "name": "stdout",
     "output_type": "stream",
     "text": [
      "{('former', 'microsoft'): 2, ('microsoft', 'software'): 2, ('software', 'engineer'): 2, ('engineer', 'ukraine'): 2, ('ukraine', 'ha'): 2, ('ha', 'sentenced'): 2, ('sentenced', 'nine'): 2, ('nine', 'year'): 2, ('year', 'prison'): 2, ('prison', 'stealing'): 2, ('stealing', 'million'): 2, ('million', 'store'): 2, ('store', 'credit'): 2, ('credit', 'microsofts'): 2, ('microsofts', 'online'): 2, ('online', 'store'): 1, ('store', 'volod'): 1, ('volod', 'char'): 1, ('char', 'visahas'): 1, ('visahas', 'partnered'): 1, ('partnered', 'cryptocurrency'): 1, ('cryptocurrency', 'startup'): 1, ('startup', 'blockfi'): 1, ('blockfi', 'offer'): 1, ('offer', 'first'): 1, ('first', 'reward'): 1, ('reward', 'credit'): 1, ('credit', 'card'): 1, ('card', 'pay'): 1, ('pay', 'bitcoin'): 1, ('bitcoin', 'rather'): 1, ('rather', 'cash'): 1, ('cash', 'worth'): 1, ('worth', 'applying'): 1, ('applying', 'unless'): 1, ('unless', 'youre'): 1, ('youre', 'extremely'): 1, ('extremely', 'bullish'): 1, ('bullish', 'char'): 1, ('char', 'paypal'): 1, ('paypal', 'bringing'): 1, ('bringing', 'newlyannounced'): 1, ('newlyannounced', 'support'): 1, ('support', 'cryptocurrency'): 1, ('cryptocurrency', 'us'): 1, ('us', 'account'): 1, ('account', 'first'): 1, ('first', 'announced'): 1, ('announced', 'plan'): 1, ('plan', 'open'): 1, ('open', 'cryptocurrency'): 1, ('cryptocurrency', 'trading'): 1, ('trading', 'usbased'): 1, ('usbased', 'user'): 1, ('user', 'october'): 1, ('october', 'wa'): 1, ('wa', 'char'): 1, ('char', 'two'): 1, ('two', 'day'): 1, ('day', 'ago'): 1, ('ago', 'billion'): 1, ('billion', 'worth'): 1, ('worth', 'bitcoin'): 1, ('bitcoin', 'sat'): 1, ('sat', 'dormant'): 1, ('dormant', 'since'): 1, ('since', 'seizure'): 1, ('seizure', 'silk'): 1, ('silk', 'road'): 2, ('road', 'marketplace'): 1, ('marketplace', 'one'): 1, ('one', 'biggest'): 1, ('biggest', 'underground'): 1, ('underground', 'drug'): 1, ('drug', 'website'): 1, ('website', 'dark'): 1, ('dark', 'web'): 1, ('web', 'suddenly'): 1, ('suddenly', 'cha'): 1, ('cha', 'char'): 1, ('char', 'november'): 1, ('november', 'absolutely'): 1, ('absolutely', 'massive'): 1, ('massive', 'twomonth'): 1, ('twomonth', 'rally'): 1, ('rally', 'bitcoin'): 1, ('bitcoin', 'passed'): 1, ('passed', 'first'): 1, ('first', 'time'): 1, ('time', 'next'): 1, ('next', 'day'): 1, ('day', 'soared'): 1, ('soared', 'even'): 1, ('even', 'higher'): 1, ('higher', 'reaching'): 1, ('reaching', 'price'): 1, ('price', 'roug'): 1, ('roug', 'char'): 1, ('char', 'youve'): 1, ('youve', 'watching'): 1, ('watching', 'crypto'): 1, ('crypto', 'market'): 1, ('market', 'past'): 1, ('past', 'week'): 1, ('week', 'youll'): 1, ('youll', 'noticed'): 1, ('noticed', 'something'): 1, ('something', 'special'): 1, ('special', 'bitcoin'): 1, ('bitcoin', 'everyones'): 1, ('everyones', 'favorite'): 1, ('favorite', 'decentralized'): 1, ('decentralized', 'digital'): 1, ('digital', 'currency'): 1, ('currency', 'based'): 1, ('based', 'hype'): 1, ('hype', 'lie'): 1, ('lie', 'general'): 1, ('general', 'mal'): 1, ('mal', 'char'): 1, ('char', 'decentralized'): 1, ('decentralized', 'exchange'): 1, ('exchange', 'protocol'): 1, ('protocol', 'allow'): 1, ('allow', 'crypto'): 1, ('crypto', 'trader'): 1, ('trader', 'investor'): 1, ('investor', 'trade'): 1, ('trade', 'across'): 1, ('across', 'different'): 1, ('different', 'blockhains'): 1, ('blockhains', 'development'): 1, ('development', 'significant'): 1, ('significant', 'new'): 1, ('new', 'development'): 1, ('development', 'come'): 1, ('come', 'la'): 1, ('la', 'char'): 1, ('char', 'joke'): 1, ('joke', 'reality'): 1, ('reality', 'im'): 1, ('im', 'speaking'): 1, ('speaking', 'course'): 1, ('course', 'tesla'): 1, ('tesla', 'tequila'): 1, ('tequila', 'previously'): 1, ('previously', 'featured'): 1, ('featured', 'april'): 1, ('april', 'fools'): 1, ('fools', 'tweet'): 1, ('tweet', 'elon'): 1, ('elon', 'musk'): 1, ('musk', 'presec'): 1, ('presec', 'settlement'): 1, ('settlement', 'era'): 1, ('era', 'teslaquila'): 1, ('teslaquila', 'actual'): 1, ('actual', 'drin'): 1, ('drin', 'char'): 1, ('char', 'us'): 2, ('us', 'government'): 1, ('government', 'trying'): 1, ('trying', 'seize'): 1, ('seize', 'individual'): 1, ('individual', 'x'): 1, ('x', 'already'): 1, ('already', 'stolen'): 1, ('stolen', 'specifically'): 1, ('specifically', 'would'): 1, ('would', 'gargantuan'): 1, ('gargantuan', 'amount'): 1, ('amount', 'cryptocurrencyin'): 1, ('cryptocurrencyin', 'surprise'): 1, ('surprise', 'reveal'): 1, ('reveal', 'mystery'): 1, ('mystery', 'thats'): 1, ('thats', 'bedeviled'): 1, ('bedeviled', 'char'): 1, ('us', 'market'): 1, ('market', 'ended'): 1, ('ended', 'november'): 1, ('november', 'large'): 1, ('large', 'gain'): 1, ('gain', 'even'): 1, ('even', 'small'): 1, ('small', 'decline'): 1, ('decline', 'today'): 1, ('today', 'sampp'): 1, ('sampp', 'jumped'): 1, ('jumped', 'percent'): 1, ('percent', 'november'): 1, ('november', 'best'): 1, ('best', 'monthly'): 1, ('monthly', 'showing'): 1, ('showing', 'since'): 1, ('since', 'april'): 1, ('april', 'fourthbest'): 1, ('fourthbest', 'month'): 1, ('month', 'char'): 1, ('char', 'maisie'): 1, ('maisie', 'williams'): 1, ('williams', 'also'): 1, ('also', 'known'): 1, ('known', 'arya'): 1, ('arya', 'stark'): 1, ('stark', 'daughter'): 1, ('daughter', 'lady'): 1, ('lady', 'catelyn'): 1, ('catelyn', 'lord'): 1, ('lord', 'eddard'): 1, ('eddard', 'acolyte'): 1, ('acolyte', 'faceless'): 1, ('faceless', 'men'): 1, ('men', 'know'): 1, ('know', 'one'): 1, ('one', 'considering'): 1, ('considering', 'buying'): 1, ('buying', 'bitcoinson'): 1, ('bitcoinson', 'monday'): 1, ('monday', 'asked'): 1, ('asked', 'twitt'): 1, ('twitt', 'char'): 1, ('char', 'billion'): 1, ('billion', 'transaction'): 1, ('transaction', 'flowed'): 1, ('flowed', 'dormant'): 1, ('dormant', 'bitcoin'): 1, ('bitcoin', 'wallet'): 1, ('wallet', 'allegedly'): 1, ('allegedly', 'belonging'): 1, ('belonging', 'silk'): 1, ('road', 'founder'): 1, ('founder', 'ross'): 1, ('ross', 'ulbricht'): 1, ('ulbricht', 'made'): 1, ('made', 'wave'): 1, ('wave', 'crypto'): 1, ('crypto', 'world'): 1, ('world', 'week'): 1, ('week', 'causing'): 1, ('causing', 'suspect'): 1, ('suspect', 'found'): 1, ('found', 'char'): 1, ('char', 'poster'): 2, ('poster', 'participatinga'): 1, ('participatinga', 'former'): 1, ('online', 'char'): 1, ('poster', 'participatingbitcoin'): 1, ('participatingbitcoin', 'rose'): 1, ('rose', 'tuesday'): 1, ('tuesday', 'evening'): 1, ('evening', 'reaching'): 1, ('reaching', 'highest'): 1, ('highest', 'value'): 1, ('value', 'since'): 1, ('since', 'december'): 1, ('december', 'indeed'): 1, ('indeed', 'prior'): 1, ('prior', 'week'): 1, ('week', 'bitcoin'): 1, ('bitcoin', 'ha'): 2, ('ha', 'worth'): 1, ('worth', 'char'): 1, ('char', 'file'): 1, ('file', 'photo'): 1, ('photo', 'representations'): 2, ('representations', 'virtual'): 2, ('virtual', 'currency'): 3, ('currency', 'bitcoin'): 3, ('bitcoin', 'seen'): 2, ('seen', 'picture'): 1, ('picture', 'illustration'): 1, ('illustration', 'taken'): 3, ('taken', 'taken'): 1, ('taken', 'march'): 1, ('march', 'reutersdado'): 1, ('reutersdado', 'ruvicfile'): 1, ('ruvicfile', 'photofuture'): 1, ('photofuture', 'moneytom'): 1, ('moneytom', 'wilsongertrude'): 1, ('wilsongertrude', 'chavez'): 1, ('chavez', 'char'): 1, ('char', 'justin'): 1, ('justin', 'harperbusiness'): 1, ('harperbusiness', 'reporter'): 1, ('reporter', 'bbc'): 1, ('bbc', 'newsimage'): 1, ('newsimage', 'copyrightgetty'): 1, ('copyrightgetty', 'imagesbitcoin'): 1, ('imagesbitcoin', 'world'): 1, ('world', 'bestknown'): 1, ('bestknown', 'cryptocurrency'): 1, ('cryptocurrency', 'ha'): 1, ('ha', 'jumped'): 1, ('jumped', 'hit'): 1, ('hit', 'threeyear'): 1, ('threeyear', 'highthe'): 1, ('highthe', 'digital'): 1, ('digital', 'cur'): 1, ('cur', 'char'): 1, ('char', 'posted'): 1, ('posted', 'bitcoin'): 1, ('ha', 'grabbed'): 1, ('grabbed', 'headline'): 1, ('headline', 'week'): 1, ('week', 'ascent'): 1, ('ascent', 'alltime'): 1, ('alltime', 'high'): 1, ('high', 'yet'): 1, ('yet', 'trend'): 1, ('trend', 'ha'): 1, ('ha', 'playing'): 1, ('playing', 'could'): 1, ('could', 'change'): 1, ('change', 'face'): 1, ('face', 'cryptocurrency'): 1, ('cryptocurrency', 'market'): 1, ('market', 'massive'): 1, ('massive', 'flow'): 1, ('flow', 'coin'): 1, ('coin', 'char'): 1, ('char', 'reuters'): 2, ('reuters', 'stafffile'): 2, ('stafffile', 'photo'): 2, ('photo', 'representation'): 1, ('representation', 'virtual'): 1, ('seen', 'illustration'): 1, ('taken', 'november'): 1, ('november', 'reutersdado'): 1, ('reutersdado', 'ruvicillustrationtokyo'): 1, ('ruvicillustrationtokyo', 'reuters'): 1, ('reuters', 'bitcoin'): 1, ('bitcoin', 'dropped'): 1, ('dropped', 'char'): 1, ('bitcoin', 'placed'): 1, ('placed', 'us'): 1, ('us', 'dollar'): 1, ('dollar', 'banknote'): 1, ('banknote', 'illustration'): 1, ('taken', 'may'): 1, ('may', 'reutersdado'): 1, ('reutersdado', 'ruvicillustrationlondon'): 1, ('ruvicillustrationlondon', 'reuters'): 1, ('reuters', 'char'): 1}\n"
     ]
    }
   ],
   "source": [
    "# Generate the Bitcoin N-grams where N=2\n",
    "btc_bigram_count = Counter(ngrams(btc_tokens, n=2))\n",
    "print(dict(btc_bigram_count))"
   ]
  },
  {
   "cell_type": "code",
   "execution_count": 106,
   "metadata": {},
   "outputs": [
    {
     "name": "stdout",
     "output_type": "stream",
     "text": [
      "['paypal', 'bringing', 'newlyannounced', 'support', 'cryptocurrency', 'us', 'account', 'first', 'announced', 'plan', 'open', 'cryptocurrency', 'trading', 'usbased', 'user', 'october', 'wa', 'char', 'file', 'photo', 'representation', 'ethereum', 'virtual', 'currency', 'standing', 'pc', 'motherboard', 'seen', 'illustration', 'picture', 'february', 'reutersdado', 'ruvicillustrationlondon', 'reuters', 'char', 'file', 'photo', 'representation', 'ethereum', 'virtual', 'currency', 'standing', 'pc', 'motherboard', 'seen', 'illustration', 'picture', 'february', 'reutersdado', 'ruvicillustrationlondon', 'reuters', 'char', 'london', 'reuters', 'digital', 'currency', 'ethereum', 'xrp', 'soared', 'monday', 'gaining', 'momentum', 'bitcoin', 'powered', 'towards', 'alltime', 'highfile', 'photo', 'representation', 'ethereum', 'virtual', 'currency', 'char', 'paypal', 'ha', 'launched', 'generosity', 'network', 'platform', 'allows', 'user', 'create', 'customized', 'personal', 'fundraising', 'campaign', 'yes', 'like', 'gofundmeyou', 'raise', 'maximum', 'char', 'reuters', 'stafffile', 'photo', 'representation', 'virtual', 'currency', 'bitcoin', 'seen', 'front', 'stock', 'graph', 'illustration', 'taken', 'november', 'reutersdado', 'ruvicillustrationfile', 'photo', 'char', 'reuters', 'stafffile', 'photo', 'representation', 'virtual', 'currency', 'bitcoin', 'seen', 'front', 'stock', 'graph', 'illustration', 'taken', 'november', 'reutersdado', 'ruvicillustrationfile', 'photo', 'char', 'new', 'york', 'times', 'probably', 'publish', 'story', 'cryptocurrency', 'exchange', 'coinbase', 'reading', 'news', 'outlet', 'website', 'coinbase', 'ha', 'taken', 'highly', 'un', 'char', 'decentralized', 'exchange', 'protocol', 'allow', 'crypto', 'trader', 'investor', 'trade', 'across', 'different', 'blockhains', 'development', 'significant', 'new', 'development', 'come', 'la', 'char', 'attack', 'growing', 'number', 'since', 'early', 'february', 'year', 'one', 'biggest', 'flash', 'loan', 'attack', 'took', 'place', 'last', 'month', 'october', 'hacker', 'stole', 'million', 'worth', 'cryptoc', 'char', 'november', 'min', 'readopinions', 'expressed', 'entrepreneur', 'contributor', 'ownthe', 'cryptocurrency', 'world', 'prone', 'hype', 'whether', 'grand', 'scale', 'ico', 'boom', 'bitcoin', 'price', 'char', 'reuters', 'staffa', 'representation', 'virtual', 'currency', 'bitcoin', 'seen', 'illustration', 'taken', 'november', 'reutersdado', 'ruvicillustrationnew', 'york', 'reuters', 'bitcoin', 'btcbtsp', 'rose', 'n', 'char', 'reuters', 'staffa', 'representation', 'virtual', 'currency', 'bitcoin', 'seen', 'illustration', 'taken', 'november', 'reutersdado', 'ruvicillustrationnew', 'york', 'reuters', 'bitcoin', 'btcbtsp', 'rose', 'n', 'char', 'reuters', 'stafffile', 'photo', 'representation', 'virtual', 'currency', 'bitcoin', 'seen', 'illustration', 'taken', 'november', 'reutersdado', 'ruvicillustrationfile', 'photolondon', 'reuters', 'bitcoin', 'char', 'reuters', 'stafffile', 'photo', 'representations', 'virtual', 'currency', 'bitcoin', 'placed', 'us', 'dollar', 'banknote', 'illustration', 'taken', 'may', 'reutersdado', 'ruvicillustrationlondon', 'reuters', 'char', 'hala', 'systems', 'using', 'hedera', 'hashgraph', 'secure', 'alternative', 'blockchain', 'technology', 'anchor', 'system', 'warns', 'syrians', 'impending', 'conflict', 'natural', 'disastershala', 'systems', 'social', 'enter', 'char', 'try', 'reaching', 'live', 'customer', 'support', 'person', 'paypal', 'virtually', 'impossible', 'get', 'hold', 'thru', 'automated', 'phone', 'systemimagine', 'glitch', 'cypto', 'transfer', 'ne', 'char', 'paypal', 'let', 'buy', 'sell', 'cryptocurrencies', 'like', 'bitcoin', 'ethereum', 'lot', 'people', 'excited', 'speculated', 'price', 'bitcoin', 'ha', 'gone', 'upbut', 'payp', 'char', 'chain', 'block', 'erupters', 'used', 'bitcoin', 'mining', 'pictured', 'plug', 'play', 'tech', 'center', 'sunnyvale', 'california', 'october', 'reutersstephen', 'lamullibitcoin', 'slumped', 'throug', 'char', 'comment', 'response', 'cost', 'tiny', 'eth', 'fee', 'ethereum', 'cryptocurrency', 'payable', 'metamaskio', 'wallet', 'wallet', 'free', 'take', 'moment', 'add', 'browse', 'char']\n"
     ]
    }
   ],
   "source": [
    "# Generate the Ethereum Tokens\n",
    "eth_tokens = []\n",
    "for tokens in ethereum_df.tokens:\n",
    "    eth_tokens += tokens\n",
    "print(eth_tokens)"
   ]
  },
  {
   "cell_type": "code",
   "execution_count": 108,
   "metadata": {},
   "outputs": [
    {
     "name": "stdout",
     "output_type": "stream",
     "text": [
      "{('paypal', 'bringing'): 1, ('bringing', 'newlyannounced'): 1, ('newlyannounced', 'support'): 1, ('support', 'cryptocurrency'): 1, ('cryptocurrency', 'us'): 1, ('us', 'account'): 1, ('account', 'first'): 1, ('first', 'announced'): 1, ('announced', 'plan'): 1, ('plan', 'open'): 1, ('open', 'cryptocurrency'): 1, ('cryptocurrency', 'trading'): 1, ('trading', 'usbased'): 1, ('usbased', 'user'): 1, ('user', 'october'): 1, ('october', 'wa'): 1, ('wa', 'char'): 1, ('char', 'file'): 2, ('file', 'photo'): 2, ('photo', 'representation'): 6, ('representation', 'ethereum'): 3, ('ethereum', 'virtual'): 3, ('virtual', 'currency'): 9, ('currency', 'standing'): 2, ('standing', 'pc'): 2, ('pc', 'motherboard'): 2, ('motherboard', 'seen'): 2, ('seen', 'illustration'): 5, ('illustration', 'picture'): 2, ('picture', 'february'): 2, ('february', 'reutersdado'): 2, ('reutersdado', 'ruvicillustrationlondon'): 3, ('ruvicillustrationlondon', 'reuters'): 3, ('reuters', 'char'): 3, ('char', 'london'): 1, ('london', 'reuters'): 1, ('reuters', 'digital'): 1, ('digital', 'currency'): 1, ('currency', 'ethereum'): 1, ('ethereum', 'xrp'): 1, ('xrp', 'soared'): 1, ('soared', 'monday'): 1, ('monday', 'gaining'): 1, ('gaining', 'momentum'): 1, ('momentum', 'bitcoin'): 1, ('bitcoin', 'powered'): 1, ('powered', 'towards'): 1, ('towards', 'alltime'): 1, ('alltime', 'highfile'): 1, ('highfile', 'photo'): 1, ('currency', 'char'): 1, ('char', 'paypal'): 2, ('paypal', 'ha'): 1, ('ha', 'launched'): 1, ('launched', 'generosity'): 1, ('generosity', 'network'): 1, ('network', 'platform'): 1, ('platform', 'allows'): 1, ('allows', 'user'): 1, ('user', 'create'): 1, ('create', 'customized'): 1, ('customized', 'personal'): 1, ('personal', 'fundraising'): 1, ('fundraising', 'campaign'): 1, ('campaign', 'yes'): 1, ('yes', 'like'): 1, ('like', 'gofundmeyou'): 1, ('gofundmeyou', 'raise'): 1, ('raise', 'maximum'): 1, ('maximum', 'char'): 1, ('char', 'reuters'): 6, ('reuters', 'stafffile'): 4, ('stafffile', 'photo'): 4, ('representation', 'virtual'): 5, ('currency', 'bitcoin'): 6, ('bitcoin', 'seen'): 5, ('seen', 'front'): 2, ('front', 'stock'): 2, ('stock', 'graph'): 2, ('graph', 'illustration'): 2, ('illustration', 'taken'): 6, ('taken', 'november'): 5, ('november', 'reutersdado'): 5, ('reutersdado', 'ruvicillustrationfile'): 3, ('ruvicillustrationfile', 'photo'): 2, ('photo', 'char'): 2, ('char', 'new'): 1, ('new', 'york'): 1, ('york', 'times'): 1, ('times', 'probably'): 1, ('probably', 'publish'): 1, ('publish', 'story'): 1, ('story', 'cryptocurrency'): 1, ('cryptocurrency', 'exchange'): 1, ('exchange', 'coinbase'): 1, ('coinbase', 'reading'): 1, ('reading', 'news'): 1, ('news', 'outlet'): 1, ('outlet', 'website'): 1, ('website', 'coinbase'): 1, ('coinbase', 'ha'): 1, ('ha', 'taken'): 1, ('taken', 'highly'): 1, ('highly', 'un'): 1, ('un', 'char'): 1, ('char', 'decentralized'): 1, ('decentralized', 'exchange'): 1, ('exchange', 'protocol'): 1, ('protocol', 'allow'): 1, ('allow', 'crypto'): 1, ('crypto', 'trader'): 1, ('trader', 'investor'): 1, ('investor', 'trade'): 1, ('trade', 'across'): 1, ('across', 'different'): 1, ('different', 'blockhains'): 1, ('blockhains', 'development'): 1, ('development', 'significant'): 1, ('significant', 'new'): 1, ('new', 'development'): 1, ('development', 'come'): 1, ('come', 'la'): 1, ('la', 'char'): 1, ('char', 'attack'): 1, ('attack', 'growing'): 1, ('growing', 'number'): 1, ('number', 'since'): 1, ('since', 'early'): 1, ('early', 'february'): 1, ('february', 'year'): 1, ('year', 'one'): 1, ('one', 'biggest'): 1, ('biggest', 'flash'): 1, ('flash', 'loan'): 1, ('loan', 'attack'): 1, ('attack', 'took'): 1, ('took', 'place'): 1, ('place', 'last'): 1, ('last', 'month'): 1, ('month', 'october'): 1, ('october', 'hacker'): 1, ('hacker', 'stole'): 1, ('stole', 'million'): 1, ('million', 'worth'): 1, ('worth', 'cryptoc'): 1, ('cryptoc', 'char'): 1, ('char', 'november'): 1, ('november', 'min'): 1, ('min', 'readopinions'): 1, ('readopinions', 'expressed'): 1, ('expressed', 'entrepreneur'): 1, ('entrepreneur', 'contributor'): 1, ('contributor', 'ownthe'): 1, ('ownthe', 'cryptocurrency'): 1, ('cryptocurrency', 'world'): 1, ('world', 'prone'): 1, ('prone', 'hype'): 1, ('hype', 'whether'): 1, ('whether', 'grand'): 1, ('grand', 'scale'): 1, ('scale', 'ico'): 1, ('ico', 'boom'): 1, ('boom', 'bitcoin'): 1, ('bitcoin', 'price'): 1, ('price', 'char'): 1, ('reuters', 'staffa'): 2, ('staffa', 'representation'): 2, ('reutersdado', 'ruvicillustrationnew'): 2, ('ruvicillustrationnew', 'york'): 2, ('york', 'reuters'): 2, ('reuters', 'bitcoin'): 3, ('bitcoin', 'btcbtsp'): 2, ('btcbtsp', 'rose'): 2, ('rose', 'n'): 2, ('n', 'char'): 2, ('ruvicillustrationfile', 'photolondon'): 1, ('photolondon', 'reuters'): 1, ('bitcoin', 'char'): 1, ('photo', 'representations'): 1, ('representations', 'virtual'): 1, ('bitcoin', 'placed'): 1, ('placed', 'us'): 1, ('us', 'dollar'): 1, ('dollar', 'banknote'): 1, ('banknote', 'illustration'): 1, ('taken', 'may'): 1, ('may', 'reutersdado'): 1, ('char', 'hala'): 1, ('hala', 'systems'): 1, ('systems', 'using'): 1, ('using', 'hedera'): 1, ('hedera', 'hashgraph'): 1, ('hashgraph', 'secure'): 1, ('secure', 'alternative'): 1, ('alternative', 'blockchain'): 1, ('blockchain', 'technology'): 1, ('technology', 'anchor'): 1, ('anchor', 'system'): 1, ('system', 'warns'): 1, ('warns', 'syrians'): 1, ('syrians', 'impending'): 1, ('impending', 'conflict'): 1, ('conflict', 'natural'): 1, ('natural', 'disastershala'): 1, ('disastershala', 'systems'): 1, ('systems', 'social'): 1, ('social', 'enter'): 1, ('enter', 'char'): 1, ('char', 'try'): 1, ('try', 'reaching'): 1, ('reaching', 'live'): 1, ('live', 'customer'): 1, ('customer', 'support'): 1, ('support', 'person'): 1, ('person', 'paypal'): 1, ('paypal', 'virtually'): 1, ('virtually', 'impossible'): 1, ('impossible', 'get'): 1, ('get', 'hold'): 1, ('hold', 'thru'): 1, ('thru', 'automated'): 1, ('automated', 'phone'): 1, ('phone', 'systemimagine'): 1, ('systemimagine', 'glitch'): 1, ('glitch', 'cypto'): 1, ('cypto', 'transfer'): 1, ('transfer', 'ne'): 1, ('ne', 'char'): 1, ('paypal', 'let'): 1, ('let', 'buy'): 1, ('buy', 'sell'): 1, ('sell', 'cryptocurrencies'): 1, ('cryptocurrencies', 'like'): 1, ('like', 'bitcoin'): 1, ('bitcoin', 'ethereum'): 1, ('ethereum', 'lot'): 1, ('lot', 'people'): 1, ('people', 'excited'): 1, ('excited', 'speculated'): 1, ('speculated', 'price'): 1, ('price', 'bitcoin'): 1, ('bitcoin', 'ha'): 1, ('ha', 'gone'): 1, ('gone', 'upbut'): 1, ('upbut', 'payp'): 1, ('payp', 'char'): 1, ('char', 'chain'): 1, ('chain', 'block'): 1, ('block', 'erupters'): 1, ('erupters', 'used'): 1, ('used', 'bitcoin'): 1, ('bitcoin', 'mining'): 1, ('mining', 'pictured'): 1, ('pictured', 'plug'): 1, ('plug', 'play'): 1, ('play', 'tech'): 1, ('tech', 'center'): 1, ('center', 'sunnyvale'): 1, ('sunnyvale', 'california'): 1, ('california', 'october'): 1, ('october', 'reutersstephen'): 1, ('reutersstephen', 'lamullibitcoin'): 1, ('lamullibitcoin', 'slumped'): 1, ('slumped', 'throug'): 1, ('throug', 'char'): 1, ('char', 'comment'): 1, ('comment', 'response'): 1, ('response', 'cost'): 1, ('cost', 'tiny'): 1, ('tiny', 'eth'): 1, ('eth', 'fee'): 1, ('fee', 'ethereum'): 1, ('ethereum', 'cryptocurrency'): 1, ('cryptocurrency', 'payable'): 1, ('payable', 'metamaskio'): 1, ('metamaskio', 'wallet'): 1, ('wallet', 'wallet'): 1, ('wallet', 'free'): 1, ('free', 'take'): 1, ('take', 'moment'): 1, ('moment', 'add'): 1, ('add', 'browse'): 1, ('browse', 'char'): 1}\n"
     ]
    }
   ],
   "source": [
    "# Generate the Ethereum N-grams where N=2\n",
    "eth_bigram_count = Counter(ngrams(eth_tokens, n=2))\n",
    "print(dict(eth_bigram_count))"
   ]
  },
  {
   "cell_type": "code",
   "execution_count": 110,
   "metadata": {},
   "outputs": [],
   "source": [
    "# Use the token_count function to generate the top 10 words from each coin\n",
    "def token_count(tokens, N):\n",
    "    \"\"\"Returns the top N tokens from the frequency count\"\"\"\n",
    "    \n",
    "    return Counter(tokens).most_common(N)"
   ]
  },
  {
   "cell_type": "code",
   "execution_count": 111,
   "metadata": {},
   "outputs": [
    {
     "data": {
      "text/plain": [
       "[('char', 19),\n",
       " ('bitcoin', 11),\n",
       " ('ha', 6),\n",
       " ('cryptocurrency', 5),\n",
       " ('us', 4),\n",
       " ('november', 4),\n",
       " ('week', 4),\n",
       " ('currency', 4),\n",
       " ('taken', 4),\n",
       " ('reuters', 4)]"
      ]
     },
     "execution_count": 111,
     "metadata": {},
     "output_type": "execute_result"
    }
   ],
   "source": [
    "# Get the top 10 words for Bitcoin\n",
    "bitcoin_top10 = token_count(btc_tokens, 10)\n",
    "bitcoin_top10"
   ]
  },
  {
   "cell_type": "code",
   "execution_count": 113,
   "metadata": {},
   "outputs": [
    {
     "data": {
      "text/plain": [
       "[('char', 20),\n",
       " ('bitcoin', 14),\n",
       " ('reuters', 13),\n",
       " ('currency', 10),\n",
       " ('photo', 9),\n",
       " ('virtual', 9),\n",
       " ('representation', 8),\n",
       " ('illustration', 8),\n",
       " ('reutersdado', 8),\n",
       " ('seen', 7)]"
      ]
     },
     "execution_count": 113,
     "metadata": {},
     "output_type": "execute_result"
    }
   ],
   "source": [
    "# Get the top 10 words for Ethereum\n",
    "eth_top10 = token_count(eth_tokens, 10)\n",
    "eth_top10"
   ]
  },
  {
   "cell_type": "markdown",
   "metadata": {},
   "source": [
    "## Word Clouds\n",
    "### In this section, we will generate word clouds for each coin to summarize the news for each coin"
   ]
  },
  {
   "cell_type": "code",
   "execution_count": 114,
   "metadata": {},
   "outputs": [],
   "source": [
    "from wordcloud import WordCloud\n",
    "import matplotlib.pyplot as plt\n",
    "#plt.style.use('seaborn-whitegrid')\n",
    "import matplotlib \n",
    "#mpl.rcParams['figure.figsize'] = [20.0, 10.0]"
   ]
  },
  {
   "cell_type": "code",
   "execution_count": 122,
   "metadata": {},
   "outputs": [],
   "source": [
    "def process_text(text):\n",
    "    sw = set(stopwords.words('english'))\n",
    "    regex = re.compile(\"[^a-zA-Z ]\")\n",
    "    re_clean = regex.sub('', text)\n",
    "    words = word_tokenize(re_clean)\n",
    "    lem = [lemmatizer.lemmatize(word) for word in words]\n",
    "    output = [word.lower() for word in lem if word.lower() not in sw]\n",
    "    return ' '.join(output)"
   ]
  },
  {
   "cell_type": "code",
   "execution_count": 135,
   "metadata": {},
   "outputs": [
    {
     "data": {
      "text/plain": [
       "<matplotlib.image.AxesImage at 0x1a1df7e3d0>"
      ]
     },
     "execution_count": 135,
     "metadata": {},
     "output_type": "execute_result"
    },
    {
     "data": {
      "image/png": "[encoded data removed]",
      "text/plain": [
       "<Figure size 432x288 with 1 Axes>"
      ]
     },
     "metadata": {
      "needs_background": "light"
     },
     "output_type": "display_data"
    }
   ],
   "source": [
    "# Generate the Bitcoin word cloud\n",
    "\n",
    "btc_words = ''\n",
    "for token in bitcoin_df.tokens:\n",
    "    btc_words += str(token)\n",
    "btc_string = \" \".join(str(token) for token in tokenizer(btc_words))\n",
    "btc_cloud = WordCloud().generate(btc_string)\n",
    "plt.imshow(btc_cloud)"
   ]
  },
  {
   "cell_type": "code",
   "execution_count": 136,
   "metadata": {},
   "outputs": [
    {
     "data": {
      "text/plain": [
       "<matplotlib.image.AxesImage at 0x1a21bd5b10>"
      ]
     },
     "execution_count": 136,
     "metadata": {},
     "output_type": "execute_result"
    },
    {
     "data": {
      "image/png": "[encoded data removed]",
      "text/plain": [
       "<Figure size 432x288 with 1 Axes>"
      ]
     },
     "metadata": {
      "needs_background": "light"
     },
     "output_type": "display_data"
    }
   ],
   "source": [
    "# Generate the Ethereum word cloud\n",
    "\n",
    "eth_words = ''\n",
    "for token in ethereum_df.tokens:\n",
    "    eth_words += str(token)\n",
    "eth_string = \" \".join(str(token) for token in tokenizer(eth_words))\n",
    "eth_cloud = WordCloud().generate(eth_string)\n",
    "plt.imshow(eth_cloud)"
   ]
  },
  {
   "cell_type": "markdown",
   "metadata": {},
   "source": [
    "## Named Entity Recognition\n",
    "### In this section, we will build a named entity recognition model for both coins and visualize the tags using SpaCy."
   ]
  },
  {
   "cell_type": "code",
   "execution_count": 137,
   "metadata": {},
   "outputs": [],
   "source": [
    "import spacy\n",
    "from spacy import displacy"
   ]
  },
  {
   "cell_type": "code",
   "execution_count": 138,
   "metadata": {},
   "outputs": [],
   "source": [
    "# Optional - download a language model for SpaCy\n",
    "# !python -m spacy download en_core_web_sm"
   ]
  },
  {
   "cell_type": "code",
   "execution_count": 139,
   "metadata": {},
   "outputs": [],
   "source": [
    "# Load the spaCy model\n",
    "nlp = spacy.load('en_core_web_sm') "
   ]
  },
  {
   "cell_type": "markdown",
   "metadata": {},
   "source": [
    "## Bitcoin NER"
   ]
  },
  {
   "cell_type": "code",
   "execution_count": 141,
   "metadata": {},
   "outputs": [
    {
     "data": {
      "text/plain": [
       "'former microsoft software engineer ukraine ha sentenced nine year prison stealing million store credit microsofts online store volod charvisahas partnered cryptocurrency startup blockfi offer first reward credit card pay bitcoin rather cash worth applying unless youre extremely bullish charpaypal bringing newlyannounced support cryptocurrency u account first announced plan open cryptocurrency trading usbased user october wa chartwo day ago billion worth bitcoin sat dormant since seizure silk road marketplace one biggest underground drug website dark web suddenly cha charnovember absolutely massive twomonth rally bitcoin passed first time next day soared even higher reaching price roug charyouve watching crypto market past week youll noticed something special bitcoin everyones favorite decentralized digital currency based hype lie general mal chardecentralized exchange protocol allow crypto trader investor trade across different blockhains development significant new development come la charjoke reality im speaking course tesla tequila previously featured april fool tweet elon musk presec settlement era teslaquila actual drin charus government trying seize individual x already stolen specifically would gargantuan amount cryptocurrencyin surprise reveal mystery thats bedeviled charus market ended november large gain even small decline today sampp jumped percent november best monthly showing since april fourthbest month charmaisie williams also known arya stark daughter lady catelyn lord eddard acolyte faceless men know one considering buying bitcoinson monday asked twitt charbillion transaction flowed dormant bitcoin wallet allegedly belonging silk road founder ross ulbricht made wave crypto world week causing suspect found charposter participatinga former microsoft software engineer ukraine ha sentenced nine year prison stealing million store credit microsofts online charposter participatingbitcoin rose tuesday evening reaching highest value since december indeed prior week bitcoin ha worth charfile photo representation virtual currency bitcoin seen picture illustration taken taken march reutersdado ruvicfile photofuture moneytom wilsongertrude chavez charjustin harperbusiness reporter bbc newsimage copyrightgetty imagesbitcoin world bestknown cryptocurrency ha jumped hit threeyear highthe digital cur charposted bitcoin ha grabbed headline week ascent alltime high yet trend ha playing could change face cryptocurrency market massive flow coin charreuters stafffile photo representation virtual currency bitcoin seen illustration taken november reutersdado ruvicillustrationtokyo reuters bitcoin dropped charreuters stafffile photo representation virtual currency bitcoin placed u dollar banknote illustration taken may reutersdado ruvicillustrationlondon reuters char'"
      ]
     },
     "execution_count": 141,
     "metadata": {},
     "output_type": "execute_result"
    }
   ],
   "source": [
    "# Concatenate all of the bitcoin text together\n",
    "btc_string"
   ]
  },
  {
   "cell_type": "code",
   "execution_count": 143,
   "metadata": {},
   "outputs": [
    {
     "data": {
      "text/plain": [
       "former microsoft software engineer ukraine ha sentenced nine year prison stealing million store credit microsofts online store volod charvisahas partnered cryptocurrency startup blockfi offer first reward credit card pay bitcoin rather cash worth applying unless youre extremely bullish charpaypal bringing newlyannounced support cryptocurrency u account first announced plan open cryptocurrency trading usbased user october wa chartwo day ago billion worth bitcoin sat dormant since seizure silk road marketplace one biggest underground drug website dark web suddenly cha charnovember absolutely massive twomonth rally bitcoin passed first time next day soared even higher reaching price roug charyouve watching crypto market past week youll noticed something special bitcoin everyones favorite decentralized digital currency based hype lie general mal chardecentralized exchange protocol allow crypto trader investor trade across different blockhains development significant new development come la charjoke reality im speaking course tesla tequila previously featured april fool tweet elon musk presec settlement era teslaquila actual drin charus government trying seize individual x already stolen specifically would gargantuan amount cryptocurrencyin surprise reveal mystery thats bedeviled charus market ended november large gain even small decline today sampp jumped percent november best monthly showing since april fourthbest month charmaisie williams also known arya stark daughter lady catelyn lord eddard acolyte faceless men know one considering buying bitcoinson monday asked twitt charbillion transaction flowed dormant bitcoin wallet allegedly belonging silk road founder ross ulbricht made wave crypto world week causing suspect found charposter participatinga former microsoft software engineer ukraine ha sentenced nine year prison stealing million store credit microsofts online charposter participatingbitcoin rose tuesday evening reaching highest value since december indeed prior week bitcoin ha worth charfile photo representation virtual currency bitcoin seen picture illustration taken taken march reutersdado ruvicfile photofuture moneytom wilsongertrude chavez charjustin harperbusiness reporter bbc newsimage copyrightgetty imagesbitcoin world bestknown cryptocurrency ha jumped hit threeyear highthe digital cur charposted bitcoin ha grabbed headline week ascent alltime high yet trend ha playing could change face cryptocurrency market massive flow coin charreuters stafffile photo representation virtual currency bitcoin seen illustration taken november reutersdado ruvicillustrationtokyo reuters bitcoin dropped charreuters stafffile photo representation virtual currency bitcoin placed u dollar banknote illustration taken may reutersdado ruvicillustrationlondon reuters char"
      ]
     },
     "execution_count": 143,
     "metadata": {},
     "output_type": "execute_result"
    }
   ],
   "source": [
    "# Run the NER processor on all of the text\n",
    "bitcoin_ner = nlp(btc_string)\n",
    "\n",
    "# Add a title to the document\n",
    "bitcoin_ner.user_data['Title'] = 'Bitcoin NER'"
   ]
  },
  {
   "cell_type": "code",
   "execution_count": 144,
   "metadata": {},
   "outputs": [
    {
     "data": {
      "text/html": [
       "<span class=\"tex2jax_ignore\"><div class=\"entities\" style=\"line-height: 2.5; direction: ltr\">former \n",
       "<mark class=\"entity\" style=\"background: #7aecec; padding: 0.45em 0.6em; margin: 0 0.25em; line-height: 1; border-radius: 0.35em;\">\n",
       "    microsoft\n",
       "    <span style=\"font-size: 0.8em; font-weight: bold; line-height: 1; border-radius: 0.35em; text-transform: uppercase; vertical-align: middle; margin-left: 0.5rem\">ORG</span>\n",
       "</mark>\n",
       " software engineer \n",
       "<mark class=\"entity\" style=\"background: #feca74; padding: 0.45em 0.6em; margin: 0 0.25em; line-height: 1; border-radius: 0.35em;\">\n",
       "    ukraine\n",
       "    <span style=\"font-size: 0.8em; font-weight: bold; line-height: 1; border-radius: 0.35em; text-transform: uppercase; vertical-align: middle; margin-left: 0.5rem\">GPE</span>\n",
       "</mark>\n",
       " ha sentenced \n",
       "<mark class=\"entity\" style=\"background: #bfe1d9; padding: 0.45em 0.6em; margin: 0 0.25em; line-height: 1; border-radius: 0.35em;\">\n",
       "    nine year\n",
       "    <span style=\"font-size: 0.8em; font-weight: bold; line-height: 1; border-radius: 0.35em; text-transform: uppercase; vertical-align: middle; margin-left: 0.5rem\">DATE</span>\n",
       "</mark>\n",
       " prison stealing \n",
       "<mark class=\"entity\" style=\"background: #e4e7d2; padding: 0.45em 0.6em; margin: 0 0.25em; line-height: 1; border-radius: 0.35em;\">\n",
       "    million\n",
       "    <span style=\"font-size: 0.8em; font-weight: bold; line-height: 1; border-radius: 0.35em; text-transform: uppercase; vertical-align: middle; margin-left: 0.5rem\">CARDINAL</span>\n",
       "</mark>\n",
       " store credit microsofts online store volod \n",
       "<mark class=\"entity\" style=\"background: #7aecec; padding: 0.45em 0.6em; margin: 0 0.25em; line-height: 1; border-radius: 0.35em;\">\n",
       "    charvisahas\n",
       "    <span style=\"font-size: 0.8em; font-weight: bold; line-height: 1; border-radius: 0.35em; text-transform: uppercase; vertical-align: middle; margin-left: 0.5rem\">ORG</span>\n",
       "</mark>\n",
       " partnered \n",
       "<mark class=\"entity\" style=\"background: #bfeeb7; padding: 0.45em 0.6em; margin: 0 0.25em; line-height: 1; border-radius: 0.35em;\">\n",
       "    cryptocurrency\n",
       "    <span style=\"font-size: 0.8em; font-weight: bold; line-height: 1; border-radius: 0.35em; text-transform: uppercase; vertical-align: middle; margin-left: 0.5rem\">PRODUCT</span>\n",
       "</mark>\n",
       " startup blockfi offer \n",
       "<mark class=\"entity\" style=\"background: #e4e7d2; padding: 0.45em 0.6em; margin: 0 0.25em; line-height: 1; border-radius: 0.35em;\">\n",
       "    first\n",
       "    <span style=\"font-size: 0.8em; font-weight: bold; line-height: 1; border-radius: 0.35em; text-transform: uppercase; vertical-align: middle; margin-left: 0.5rem\">ORDINAL</span>\n",
       "</mark>\n",
       " reward credit card pay \n",
       "<mark class=\"entity\" style=\"background: #feca74; padding: 0.45em 0.6em; margin: 0 0.25em; line-height: 1; border-radius: 0.35em;\">\n",
       "    bitcoin\n",
       "    <span style=\"font-size: 0.8em; font-weight: bold; line-height: 1; border-radius: 0.35em; text-transform: uppercase; vertical-align: middle; margin-left: 0.5rem\">GPE</span>\n",
       "</mark>\n",
       " rather cash worth applying unless youre extremely bullish charpaypal bringing newlyannounced support cryptocurrency u account first announced plan open cryptocurrency trading usbased user \n",
       "<mark class=\"entity\" style=\"background: #bfe1d9; padding: 0.45em 0.6em; margin: 0 0.25em; line-height: 1; border-radius: 0.35em;\">\n",
       "    october\n",
       "    <span style=\"font-size: 0.8em; font-weight: bold; line-height: 1; border-radius: 0.35em; text-transform: uppercase; vertical-align: middle; margin-left: 0.5rem\">DATE</span>\n",
       "</mark>\n",
       " wa chartwo day ago billion worth \n",
       "<mark class=\"entity\" style=\"background: #feca74; padding: 0.45em 0.6em; margin: 0 0.25em; line-height: 1; border-radius: 0.35em;\">\n",
       "    bitcoin\n",
       "    <span style=\"font-size: 0.8em; font-weight: bold; line-height: 1; border-radius: 0.35em; text-transform: uppercase; vertical-align: middle; margin-left: 0.5rem\">GPE</span>\n",
       "</mark>\n",
       " sat dormant since seizure silk road marketplace \n",
       "<mark class=\"entity\" style=\"background: #e4e7d2; padding: 0.45em 0.6em; margin: 0 0.25em; line-height: 1; border-radius: 0.35em;\">\n",
       "    one\n",
       "    <span style=\"font-size: 0.8em; font-weight: bold; line-height: 1; border-radius: 0.35em; text-transform: uppercase; vertical-align: middle; margin-left: 0.5rem\">CARDINAL</span>\n",
       "</mark>\n",
       " biggest underground drug website dark web suddenly cha charnovember absolutely massive twomonth rally bitcoin passed \n",
       "<mark class=\"entity\" style=\"background: #e4e7d2; padding: 0.45em 0.6em; margin: 0 0.25em; line-height: 1; border-radius: 0.35em;\">\n",
       "    first\n",
       "    <span style=\"font-size: 0.8em; font-weight: bold; line-height: 1; border-radius: 0.35em; text-transform: uppercase; vertical-align: middle; margin-left: 0.5rem\">ORDINAL</span>\n",
       "</mark>\n",
       " time \n",
       "<mark class=\"entity\" style=\"background: #bfe1d9; padding: 0.45em 0.6em; margin: 0 0.25em; line-height: 1; border-radius: 0.35em;\">\n",
       "    next day\n",
       "    <span style=\"font-size: 0.8em; font-weight: bold; line-height: 1; border-radius: 0.35em; text-transform: uppercase; vertical-align: middle; margin-left: 0.5rem\">DATE</span>\n",
       "</mark>\n",
       " soared even higher reaching price roug charyouve watching crypto market \n",
       "<mark class=\"entity\" style=\"background: #bfe1d9; padding: 0.45em 0.6em; margin: 0 0.25em; line-height: 1; border-radius: 0.35em;\">\n",
       "    past week\n",
       "    <span style=\"font-size: 0.8em; font-weight: bold; line-height: 1; border-radius: 0.35em; text-transform: uppercase; vertical-align: middle; margin-left: 0.5rem\">DATE</span>\n",
       "</mark>\n",
       " youll noticed something special \n",
       "<mark class=\"entity\" style=\"background: #feca74; padding: 0.45em 0.6em; margin: 0 0.25em; line-height: 1; border-radius: 0.35em;\">\n",
       "    bitcoin\n",
       "    <span style=\"font-size: 0.8em; font-weight: bold; line-height: 1; border-radius: 0.35em; text-transform: uppercase; vertical-align: middle; margin-left: 0.5rem\">GPE</span>\n",
       "</mark>\n",
       " everyones favorite decentralized digital currency based \n",
       "<mark class=\"entity\" style=\"background: #7aecec; padding: 0.45em 0.6em; margin: 0 0.25em; line-height: 1; border-radius: 0.35em;\">\n",
       "    hype lie\n",
       "    <span style=\"font-size: 0.8em; font-weight: bold; line-height: 1; border-radius: 0.35em; text-transform: uppercase; vertical-align: middle; margin-left: 0.5rem\">ORG</span>\n",
       "</mark>\n",
       " general mal chardecentralized exchange protocol allow \n",
       "<mark class=\"entity\" style=\"background: #7aecec; padding: 0.45em 0.6em; margin: 0 0.25em; line-height: 1; border-radius: 0.35em;\">\n",
       "    crypto\n",
       "    <span style=\"font-size: 0.8em; font-weight: bold; line-height: 1; border-radius: 0.35em; text-transform: uppercase; vertical-align: middle; margin-left: 0.5rem\">ORG</span>\n",
       "</mark>\n",
       " trader investor trade across different blockhains development significant new development come la charjoke reality im speaking course tesla tequila previously featured \n",
       "<mark class=\"entity\" style=\"background: #e4e7d2; padding: 0.45em 0.6em; margin: 0 0.25em; line-height: 1; border-radius: 0.35em;\">\n",
       "    april\n",
       "    <span style=\"font-size: 0.8em; font-weight: bold; line-height: 1; border-radius: 0.35em; text-transform: uppercase; vertical-align: middle; margin-left: 0.5rem\">CARDINAL</span>\n",
       "</mark>\n",
       " fool tweet elon musk presec settlement era teslaquila actual drin charus government trying seize individual x already stolen specifically would gargantuan amount cryptocurrencyin surprise reveal mystery thats bedeviled charus market ended \n",
       "<mark class=\"entity\" style=\"background: #bfe1d9; padding: 0.45em 0.6em; margin: 0 0.25em; line-height: 1; border-radius: 0.35em;\">\n",
       "    november\n",
       "    <span style=\"font-size: 0.8em; font-weight: bold; line-height: 1; border-radius: 0.35em; text-transform: uppercase; vertical-align: middle; margin-left: 0.5rem\">DATE</span>\n",
       "</mark>\n",
       " large gain even small decline \n",
       "<mark class=\"entity\" style=\"background: #bfe1d9; padding: 0.45em 0.6em; margin: 0 0.25em; line-height: 1; border-radius: 0.35em;\">\n",
       "    today\n",
       "    <span style=\"font-size: 0.8em; font-weight: bold; line-height: 1; border-radius: 0.35em; text-transform: uppercase; vertical-align: middle; margin-left: 0.5rem\">DATE</span>\n",
       "</mark>\n",
       " sampp jumped percent \n",
       "<mark class=\"entity\" style=\"background: #bfe1d9; padding: 0.45em 0.6em; margin: 0 0.25em; line-height: 1; border-radius: 0.35em;\">\n",
       "    november\n",
       "    <span style=\"font-size: 0.8em; font-weight: bold; line-height: 1; border-radius: 0.35em; text-transform: uppercase; vertical-align: middle; margin-left: 0.5rem\">DATE</span>\n",
       "</mark>\n",
       " best \n",
       "<mark class=\"entity\" style=\"background: #bfe1d9; padding: 0.45em 0.6em; margin: 0 0.25em; line-height: 1; border-radius: 0.35em;\">\n",
       "    monthly\n",
       "    <span style=\"font-size: 0.8em; font-weight: bold; line-height: 1; border-radius: 0.35em; text-transform: uppercase; vertical-align: middle; margin-left: 0.5rem\">DATE</span>\n",
       "</mark>\n",
       " showing since \n",
       "<mark class=\"entity\" style=\"background: #bfe1d9; padding: 0.45em 0.6em; margin: 0 0.25em; line-height: 1; border-radius: 0.35em;\">\n",
       "    april fourthbest month\n",
       "    <span style=\"font-size: 0.8em; font-weight: bold; line-height: 1; border-radius: 0.35em; text-transform: uppercase; vertical-align: middle; margin-left: 0.5rem\">DATE</span>\n",
       "</mark>\n",
       " charmaisie \n",
       "<mark class=\"entity\" style=\"background: #aa9cfc; padding: 0.45em 0.6em; margin: 0 0.25em; line-height: 1; border-radius: 0.35em;\">\n",
       "    williams\n",
       "    <span style=\"font-size: 0.8em; font-weight: bold; line-height: 1; border-radius: 0.35em; text-transform: uppercase; vertical-align: middle; margin-left: 0.5rem\">PERSON</span>\n",
       "</mark>\n",
       " also known \n",
       "<mark class=\"entity\" style=\"background: #aa9cfc; padding: 0.45em 0.6em; margin: 0 0.25em; line-height: 1; border-radius: 0.35em;\">\n",
       "    arya stark\n",
       "    <span style=\"font-size: 0.8em; font-weight: bold; line-height: 1; border-radius: 0.35em; text-transform: uppercase; vertical-align: middle; margin-left: 0.5rem\">PERSON</span>\n",
       "</mark>\n",
       " daughter \n",
       "<mark class=\"entity\" style=\"background: #aa9cfc; padding: 0.45em 0.6em; margin: 0 0.25em; line-height: 1; border-radius: 0.35em;\">\n",
       "    lady catelyn lord\n",
       "    <span style=\"font-size: 0.8em; font-weight: bold; line-height: 1; border-radius: 0.35em; text-transform: uppercase; vertical-align: middle; margin-left: 0.5rem\">PERSON</span>\n",
       "</mark>\n",
       " \n",
       "<mark class=\"entity\" style=\"background: #aa9cfc; padding: 0.45em 0.6em; margin: 0 0.25em; line-height: 1; border-radius: 0.35em;\">\n",
       "    eddard acolyte\n",
       "    <span style=\"font-size: 0.8em; font-weight: bold; line-height: 1; border-radius: 0.35em; text-transform: uppercase; vertical-align: middle; margin-left: 0.5rem\">PERSON</span>\n",
       "</mark>\n",
       " faceless men know one considering buying bitcoinson \n",
       "<mark class=\"entity\" style=\"background: #bfe1d9; padding: 0.45em 0.6em; margin: 0 0.25em; line-height: 1; border-radius: 0.35em;\">\n",
       "    monday\n",
       "    <span style=\"font-size: 0.8em; font-weight: bold; line-height: 1; border-radius: 0.35em; text-transform: uppercase; vertical-align: middle; margin-left: 0.5rem\">DATE</span>\n",
       "</mark>\n",
       " asked \n",
       "<mark class=\"entity\" style=\"background: #7aecec; padding: 0.45em 0.6em; margin: 0 0.25em; line-height: 1; border-radius: 0.35em;\">\n",
       "    twitt charbillion transaction flowed dormant bitcoin\n",
       "    <span style=\"font-size: 0.8em; font-weight: bold; line-height: 1; border-radius: 0.35em; text-transform: uppercase; vertical-align: middle; margin-left: 0.5rem\">ORG</span>\n",
       "</mark>\n",
       " wallet allegedly belonging silk road founder \n",
       "<mark class=\"entity\" style=\"background: #aa9cfc; padding: 0.45em 0.6em; margin: 0 0.25em; line-height: 1; border-radius: 0.35em;\">\n",
       "    ross ulbricht\n",
       "    <span style=\"font-size: 0.8em; font-weight: bold; line-height: 1; border-radius: 0.35em; text-transform: uppercase; vertical-align: middle; margin-left: 0.5rem\">PERSON</span>\n",
       "</mark>\n",
       " made wave crypto \n",
       "<mark class=\"entity\" style=\"background: #ffeb80; padding: 0.45em 0.6em; margin: 0 0.25em; line-height: 1; border-radius: 0.35em;\">\n",
       "    world week\n",
       "    <span style=\"font-size: 0.8em; font-weight: bold; line-height: 1; border-radius: 0.35em; text-transform: uppercase; vertical-align: middle; margin-left: 0.5rem\">EVENT</span>\n",
       "</mark>\n",
       " causing suspect found charposter participatinga former \n",
       "<mark class=\"entity\" style=\"background: #7aecec; padding: 0.45em 0.6em; margin: 0 0.25em; line-height: 1; border-radius: 0.35em;\">\n",
       "    microsoft\n",
       "    <span style=\"font-size: 0.8em; font-weight: bold; line-height: 1; border-radius: 0.35em; text-transform: uppercase; vertical-align: middle; margin-left: 0.5rem\">ORG</span>\n",
       "</mark>\n",
       " software engineer \n",
       "<mark class=\"entity\" style=\"background: #feca74; padding: 0.45em 0.6em; margin: 0 0.25em; line-height: 1; border-radius: 0.35em;\">\n",
       "    ukraine\n",
       "    <span style=\"font-size: 0.8em; font-weight: bold; line-height: 1; border-radius: 0.35em; text-transform: uppercase; vertical-align: middle; margin-left: 0.5rem\">GPE</span>\n",
       "</mark>\n",
       " ha sentenced \n",
       "<mark class=\"entity\" style=\"background: #bfe1d9; padding: 0.45em 0.6em; margin: 0 0.25em; line-height: 1; border-radius: 0.35em;\">\n",
       "    nine year\n",
       "    <span style=\"font-size: 0.8em; font-weight: bold; line-height: 1; border-radius: 0.35em; text-transform: uppercase; vertical-align: middle; margin-left: 0.5rem\">DATE</span>\n",
       "</mark>\n",
       " prison stealing \n",
       "<mark class=\"entity\" style=\"background: #e4e7d2; padding: 0.45em 0.6em; margin: 0 0.25em; line-height: 1; border-radius: 0.35em;\">\n",
       "    million\n",
       "    <span style=\"font-size: 0.8em; font-weight: bold; line-height: 1; border-radius: 0.35em; text-transform: uppercase; vertical-align: middle; margin-left: 0.5rem\">CARDINAL</span>\n",
       "</mark>\n",
       " store credit microsofts online charposter participatingbitcoin rose \n",
       "<mark class=\"entity\" style=\"background: #bfe1d9; padding: 0.45em 0.6em; margin: 0 0.25em; line-height: 1; border-radius: 0.35em;\">\n",
       "    tuesday evening\n",
       "    <span style=\"font-size: 0.8em; font-weight: bold; line-height: 1; border-radius: 0.35em; text-transform: uppercase; vertical-align: middle; margin-left: 0.5rem\">TIME</span>\n",
       "</mark>\n",
       " reaching highest value since \n",
       "<mark class=\"entity\" style=\"background: #bfe1d9; padding: 0.45em 0.6em; margin: 0 0.25em; line-height: 1; border-radius: 0.35em;\">\n",
       "    december\n",
       "    <span style=\"font-size: 0.8em; font-weight: bold; line-height: 1; border-radius: 0.35em; text-transform: uppercase; vertical-align: middle; margin-left: 0.5rem\">DATE</span>\n",
       "</mark>\n",
       " indeed \n",
       "<mark class=\"entity\" style=\"background: #7aecec; padding: 0.45em 0.6em; margin: 0 0.25em; line-height: 1; border-radius: 0.35em;\">\n",
       "    prior week bitcoin\n",
       "    <span style=\"font-size: 0.8em; font-weight: bold; line-height: 1; border-radius: 0.35em; text-transform: uppercase; vertical-align: middle; margin-left: 0.5rem\">ORG</span>\n",
       "</mark>\n",
       " ha worth charfile photo representation virtual currency bitcoin seen picture illustration taken taken march reutersdado ruvicfile photofuture moneytom wilsongertrude \n",
       "<mark class=\"entity\" style=\"background: #aa9cfc; padding: 0.45em 0.6em; margin: 0 0.25em; line-height: 1; border-radius: 0.35em;\">\n",
       "    chavez charjustin\n",
       "    <span style=\"font-size: 0.8em; font-weight: bold; line-height: 1; border-radius: 0.35em; text-transform: uppercase; vertical-align: middle; margin-left: 0.5rem\">PERSON</span>\n",
       "</mark>\n",
       " harperbusiness reporter \n",
       "<mark class=\"entity\" style=\"background: #aa9cfc; padding: 0.45em 0.6em; margin: 0 0.25em; line-height: 1; border-radius: 0.35em;\">\n",
       "    bbc newsimage\n",
       "    <span style=\"font-size: 0.8em; font-weight: bold; line-height: 1; border-radius: 0.35em; text-transform: uppercase; vertical-align: middle; margin-left: 0.5rem\">PERSON</span>\n",
       "</mark>\n",
       " copyrightgetty imagesbitcoin world bestknown cryptocurrency ha jumped hit threeyear highthe digital cur charposted \n",
       "<mark class=\"entity\" style=\"background: #feca74; padding: 0.45em 0.6em; margin: 0 0.25em; line-height: 1; border-radius: 0.35em;\">\n",
       "    bitcoin\n",
       "    <span style=\"font-size: 0.8em; font-weight: bold; line-height: 1; border-radius: 0.35em; text-transform: uppercase; vertical-align: middle; margin-left: 0.5rem\">GPE</span>\n",
       "</mark>\n",
       " ha grabbed \n",
       "<mark class=\"entity\" style=\"background: #bfe1d9; padding: 0.45em 0.6em; margin: 0 0.25em; line-height: 1; border-radius: 0.35em;\">\n",
       "    headline week\n",
       "    <span style=\"font-size: 0.8em; font-weight: bold; line-height: 1; border-radius: 0.35em; text-transform: uppercase; vertical-align: middle; margin-left: 0.5rem\">DATE</span>\n",
       "</mark>\n",
       " ascent alltime high yet trend ha playing could change face cryptocurrency market massive flow coin charreuters stafffile photo representation virtual currency bitcoin seen illustration taken \n",
       "<mark class=\"entity\" style=\"background: #bfe1d9; padding: 0.45em 0.6em; margin: 0 0.25em; line-height: 1; border-radius: 0.35em;\">\n",
       "    november\n",
       "    <span style=\"font-size: 0.8em; font-weight: bold; line-height: 1; border-radius: 0.35em; text-transform: uppercase; vertical-align: middle; margin-left: 0.5rem\">DATE</span>\n",
       "</mark>\n",
       " \n",
       "<mark class=\"entity\" style=\"background: #7aecec; padding: 0.45em 0.6em; margin: 0 0.25em; line-height: 1; border-radius: 0.35em;\">\n",
       "    reutersdado ruvicillustrationtokyo\n",
       "    <span style=\"font-size: 0.8em; font-weight: bold; line-height: 1; border-radius: 0.35em; text-transform: uppercase; vertical-align: middle; margin-left: 0.5rem\">ORG</span>\n",
       "</mark>\n",
       " \n",
       "<mark class=\"entity\" style=\"background: #7aecec; padding: 0.45em 0.6em; margin: 0 0.25em; line-height: 1; border-radius: 0.35em;\">\n",
       "    reuters bitcoin\n",
       "    <span style=\"font-size: 0.8em; font-weight: bold; line-height: 1; border-radius: 0.35em; text-transform: uppercase; vertical-align: middle; margin-left: 0.5rem\">ORG</span>\n",
       "</mark>\n",
       " dropped charreuters stafffile photo representation virtual currency bitcoin placed u dollar banknote illustration taken may \n",
       "<mark class=\"entity\" style=\"background: #aa9cfc; padding: 0.45em 0.6em; margin: 0 0.25em; line-height: 1; border-radius: 0.35em;\">\n",
       "    reutersdado ruvicillustrationlondon reuters\n",
       "    <span style=\"font-size: 0.8em; font-weight: bold; line-height: 1; border-radius: 0.35em; text-transform: uppercase; vertical-align: middle; margin-left: 0.5rem\">PERSON</span>\n",
       "</mark>\n",
       " char</div></span>"
      ],
      "text/plain": [
       "<IPython.core.display.HTML object>"
      ]
     },
     "metadata": {},
     "output_type": "display_data"
    }
   ],
   "source": [
    "# Render the visualization\n",
    "displacy.render(bitcoin_ner, style = 'ent')"
   ]
  },
  {
   "cell_type": "code",
   "execution_count": 145,
   "metadata": {},
   "outputs": [
    {
     "name": "stdout",
     "output_type": "stream",
     "text": [
      "microsoft ORG\n",
      "ukraine GPE\n",
      "nine year DATE\n",
      "million CARDINAL\n",
      "charvisahas ORG\n",
      "cryptocurrency PRODUCT\n",
      "first ORDINAL\n",
      "bitcoin GPE\n",
      "october DATE\n",
      "bitcoin GPE\n",
      "one CARDINAL\n",
      "first ORDINAL\n",
      "next day DATE\n",
      "past week DATE\n",
      "bitcoin GPE\n",
      "hype lie ORG\n",
      "crypto ORG\n",
      "april CARDINAL\n",
      "november DATE\n",
      "today DATE\n",
      "november DATE\n",
      "monthly DATE\n",
      "april fourthbest month DATE\n",
      "williams PERSON\n",
      "arya stark PERSON\n",
      "lady catelyn lord PERSON\n",
      "eddard acolyte PERSON\n",
      "monday DATE\n",
      "twitt charbillion transaction flowed dormant bitcoin ORG\n",
      "ross ulbricht PERSON\n",
      "world week EVENT\n",
      "microsoft ORG\n",
      "ukraine GPE\n",
      "nine year DATE\n",
      "million CARDINAL\n",
      "tuesday evening TIME\n",
      "december DATE\n",
      "prior week bitcoin ORG\n",
      "chavez charjustin PERSON\n",
      "bbc newsimage PERSON\n",
      "bitcoin GPE\n",
      "headline week DATE\n",
      "november DATE\n",
      "reutersdado ruvicillustrationtokyo ORG\n",
      "reuters bitcoin ORG\n",
      "reutersdado ruvicillustrationlondon reuters PERSON\n"
     ]
    }
   ],
   "source": [
    "# List all Entities\n",
    "for ent in bitcoin_ner.ents:\n",
    "    print(ent.text, ent.label_)"
   ]
  },
  {
   "cell_type": "markdown",
   "metadata": {},
   "source": [
    "##  Ethereum NER"
   ]
  },
  {
   "cell_type": "code",
   "execution_count": 142,
   "metadata": {},
   "outputs": [
    {
     "data": {
      "text/plain": [
       "'paypal bringing newlyannounced support cryptocurrency u account first announced plan open cryptocurrency trading usbased user october wa charfile photo representation ethereum virtual currency standing pc motherboard seen illustration picture february reutersdado ruvicillustrationlondon reuters charfile photo representation ethereum virtual currency standing pc motherboard seen illustration picture february reutersdado ruvicillustrationlondon reuters charlondon reuters digital currency ethereum xrp soared monday gaining momentum bitcoin powered towards alltime highfile photo representation ethereum virtual currency charpaypal ha launched generosity network platform allows user create customized personal fundraising campaign yes like gofundmeyou raise maximum charreuters stafffile photo representation virtual currency bitcoin seen front stock graph illustration taken november reutersdado ruvicillustrationfile photo charreuters stafffile photo representation virtual currency bitcoin seen front stock graph illustration taken november reutersdado ruvicillustrationfile photo charnew york time probably publish story cryptocurrency exchange coinbase reading news outlet website coinbase ha taken highly un chardecentralized exchange protocol allow crypto trader investor trade across different blockhains development significant new development come la charattack growing number since early february year one biggest flash loan attack took place last month october hacker stole million worth cryptoc charnovember min readopinions expressed entrepreneur contributor ownthe cryptocurrency world prone hype whether grand scale ico boom bitcoin price charreuters staffa representation virtual currency bitcoin seen illustration taken november reutersdado ruvicillustrationnew york reuters bitcoin btcbtsp rose n charreuters staffa representation virtual currency bitcoin seen illustration taken november reutersdado ruvicillustrationnew york reuters bitcoin btcbtsp rose n charreuters stafffile photo representation virtual currency bitcoin seen illustration taken november reutersdado ruvicillustrationfile photolondon reuters bitcoin charreuters stafffile photo representation virtual currency bitcoin placed u dollar banknote illustration taken may reutersdado ruvicillustrationlondon reuters charhala system using hedera hashgraph secure alternative blockchain technology anchor system warns syrian impending conflict natural disastershala system social enter chartry reaching live customer support person paypal virtually impossible get hold thru automated phone systemimagine glitch cypto transfer ne charpaypal let buy sell cryptocurrencies like bitcoin ethereum lot people excited speculated price bitcoin ha gone upbut payp charchain block erupters used bitcoin mining pictured plug play tech center sunnyvale california october reutersstephen lamullibitcoin slumped throug charcomment response cost tiny eth fee ethereum cryptocurrency payable metamaskio wallet wallet free take moment add browse char'"
      ]
     },
     "execution_count": 142,
     "metadata": {},
     "output_type": "execute_result"
    }
   ],
   "source": [
    "# Concatenate all of the ethereum text together\n",
    "eth_string"
   ]
  },
  {
   "cell_type": "code",
   "execution_count": 148,
   "metadata": {},
   "outputs": [],
   "source": [
    "# Run the NER processor on all of the text\n",
    "eth_ner = nlp(eth_string)\n",
    "\n",
    "# Add a title to the document\n",
    "eth_ner.user_data['Title'] = 'Ethereum NER'"
   ]
  },
  {
   "cell_type": "code",
   "execution_count": 149,
   "metadata": {},
   "outputs": [
    {
     "data": {
      "text/html": [
       "<span class=\"tex2jax_ignore\"><div class=\"entities\" style=\"line-height: 2.5; direction: ltr\">paypal bringing newlyannounced support cryptocurrency u account \n",
       "<mark class=\"entity\" style=\"background: #e4e7d2; padding: 0.45em 0.6em; margin: 0 0.25em; line-height: 1; border-radius: 0.35em;\">\n",
       "    first\n",
       "    <span style=\"font-size: 0.8em; font-weight: bold; line-height: 1; border-radius: 0.35em; text-transform: uppercase; vertical-align: middle; margin-left: 0.5rem\">ORDINAL</span>\n",
       "</mark>\n",
       " announced plan open cryptocurrency trading usbased user \n",
       "<mark class=\"entity\" style=\"background: #bfe1d9; padding: 0.45em 0.6em; margin: 0 0.25em; line-height: 1; border-radius: 0.35em;\">\n",
       "    october\n",
       "    <span style=\"font-size: 0.8em; font-weight: bold; line-height: 1; border-radius: 0.35em; text-transform: uppercase; vertical-align: middle; margin-left: 0.5rem\">DATE</span>\n",
       "</mark>\n",
       " wa charfile photo representation ethereum virtual currency standing pc motherboard seen illustration picture \n",
       "<mark class=\"entity\" style=\"background: #bfe1d9; padding: 0.45em 0.6em; margin: 0 0.25em; line-height: 1; border-radius: 0.35em;\">\n",
       "    february\n",
       "    <span style=\"font-size: 0.8em; font-weight: bold; line-height: 1; border-radius: 0.35em; text-transform: uppercase; vertical-align: middle; margin-left: 0.5rem\">DATE</span>\n",
       "</mark>\n",
       " \n",
       "<mark class=\"entity\" style=\"background: #7aecec; padding: 0.45em 0.6em; margin: 0 0.25em; line-height: 1; border-radius: 0.35em;\">\n",
       "    reutersdado ruvicillustrationlondon\n",
       "    <span style=\"font-size: 0.8em; font-weight: bold; line-height: 1; border-radius: 0.35em; text-transform: uppercase; vertical-align: middle; margin-left: 0.5rem\">ORG</span>\n",
       "</mark>\n",
       " reuters charfile photo representation ethereum virtual currency standing pc motherboard seen illustration picture \n",
       "<mark class=\"entity\" style=\"background: #bfe1d9; padding: 0.45em 0.6em; margin: 0 0.25em; line-height: 1; border-radius: 0.35em;\">\n",
       "    february\n",
       "    <span style=\"font-size: 0.8em; font-weight: bold; line-height: 1; border-radius: 0.35em; text-transform: uppercase; vertical-align: middle; margin-left: 0.5rem\">DATE</span>\n",
       "</mark>\n",
       " \n",
       "<mark class=\"entity\" style=\"background: #7aecec; padding: 0.45em 0.6em; margin: 0 0.25em; line-height: 1; border-radius: 0.35em;\">\n",
       "    reutersdado ruvicillustrationlondon\n",
       "    <span style=\"font-size: 0.8em; font-weight: bold; line-height: 1; border-radius: 0.35em; text-transform: uppercase; vertical-align: middle; margin-left: 0.5rem\">ORG</span>\n",
       "</mark>\n",
       " \n",
       "<mark class=\"entity\" style=\"background: #7aecec; padding: 0.45em 0.6em; margin: 0 0.25em; line-height: 1; border-radius: 0.35em;\">\n",
       "    reuters\n",
       "    <span style=\"font-size: 0.8em; font-weight: bold; line-height: 1; border-radius: 0.35em; text-transform: uppercase; vertical-align: middle; margin-left: 0.5rem\">ORG</span>\n",
       "</mark>\n",
       " \n",
       "<mark class=\"entity\" style=\"background: #bfeeb7; padding: 0.45em 0.6em; margin: 0 0.25em; line-height: 1; border-radius: 0.35em;\">\n",
       "    charlondon\n",
       "    <span style=\"font-size: 0.8em; font-weight: bold; line-height: 1; border-radius: 0.35em; text-transform: uppercase; vertical-align: middle; margin-left: 0.5rem\">PRODUCT</span>\n",
       "</mark>\n",
       " \n",
       "<mark class=\"entity\" style=\"background: #7aecec; padding: 0.45em 0.6em; margin: 0 0.25em; line-height: 1; border-radius: 0.35em;\">\n",
       "    reuters digital currency\n",
       "    <span style=\"font-size: 0.8em; font-weight: bold; line-height: 1; border-radius: 0.35em; text-transform: uppercase; vertical-align: middle; margin-left: 0.5rem\">ORG</span>\n",
       "</mark>\n",
       " ethereum xrp soared \n",
       "<mark class=\"entity\" style=\"background: #bfe1d9; padding: 0.45em 0.6em; margin: 0 0.25em; line-height: 1; border-radius: 0.35em;\">\n",
       "    monday\n",
       "    <span style=\"font-size: 0.8em; font-weight: bold; line-height: 1; border-radius: 0.35em; text-transform: uppercase; vertical-align: middle; margin-left: 0.5rem\">DATE</span>\n",
       "</mark>\n",
       " gaining momentum bitcoin powered towards alltime highfile photo representation ethereum virtual currency charpaypal ha launched generosity network platform allows user create customized personal fundraising campaign yes like gofundmeyou raise maximum charreuters stafffile photo representation virtual currency bitcoin seen front stock graph illustration taken \n",
       "<mark class=\"entity\" style=\"background: #bfe1d9; padding: 0.45em 0.6em; margin: 0 0.25em; line-height: 1; border-radius: 0.35em;\">\n",
       "    november\n",
       "    <span style=\"font-size: 0.8em; font-weight: bold; line-height: 1; border-radius: 0.35em; text-transform: uppercase; vertical-align: middle; margin-left: 0.5rem\">DATE</span>\n",
       "</mark>\n",
       " reutersdado ruvicillustrationfile photo charreuters stafffile photo representation virtual currency bitcoin seen front stock graph illustration taken \n",
       "<mark class=\"entity\" style=\"background: #bfe1d9; padding: 0.45em 0.6em; margin: 0 0.25em; line-height: 1; border-radius: 0.35em;\">\n",
       "    november\n",
       "    <span style=\"font-size: 0.8em; font-weight: bold; line-height: 1; border-radius: 0.35em; text-transform: uppercase; vertical-align: middle; margin-left: 0.5rem\">DATE</span>\n",
       "</mark>\n",
       " reutersdado ruvicillustrationfile photo \n",
       "<mark class=\"entity\" style=\"background: #aa9cfc; padding: 0.45em 0.6em; margin: 0 0.25em; line-height: 1; border-radius: 0.35em;\">\n",
       "    charnew york\n",
       "    <span style=\"font-size: 0.8em; font-weight: bold; line-height: 1; border-radius: 0.35em; text-transform: uppercase; vertical-align: middle; margin-left: 0.5rem\">PERSON</span>\n",
       "</mark>\n",
       " time probably publish story cryptocurrency exchange coinbase reading news outlet website coinbase ha taken highly \n",
       "<mark class=\"entity\" style=\"background: #7aecec; padding: 0.45em 0.6em; margin: 0 0.25em; line-height: 1; border-radius: 0.35em;\">\n",
       "    un\n",
       "    <span style=\"font-size: 0.8em; font-weight: bold; line-height: 1; border-radius: 0.35em; text-transform: uppercase; vertical-align: middle; margin-left: 0.5rem\">ORG</span>\n",
       "</mark>\n",
       " chardecentralized exchange protocol allow crypto trader investor trade across different blockhains development significant new development come la charattack growing number since \n",
       "<mark class=\"entity\" style=\"background: #bfe1d9; padding: 0.45em 0.6em; margin: 0 0.25em; line-height: 1; border-radius: 0.35em;\">\n",
       "    early february year\n",
       "    <span style=\"font-size: 0.8em; font-weight: bold; line-height: 1; border-radius: 0.35em; text-transform: uppercase; vertical-align: middle; margin-left: 0.5rem\">DATE</span>\n",
       "</mark>\n",
       " \n",
       "<mark class=\"entity\" style=\"background: #e4e7d2; padding: 0.45em 0.6em; margin: 0 0.25em; line-height: 1; border-radius: 0.35em;\">\n",
       "    one\n",
       "    <span style=\"font-size: 0.8em; font-weight: bold; line-height: 1; border-radius: 0.35em; text-transform: uppercase; vertical-align: middle; margin-left: 0.5rem\">CARDINAL</span>\n",
       "</mark>\n",
       " biggest flash loan attack took place \n",
       "<mark class=\"entity\" style=\"background: #bfe1d9; padding: 0.45em 0.6em; margin: 0 0.25em; line-height: 1; border-radius: 0.35em;\">\n",
       "    last month\n",
       "    <span style=\"font-size: 0.8em; font-weight: bold; line-height: 1; border-radius: 0.35em; text-transform: uppercase; vertical-align: middle; margin-left: 0.5rem\">DATE</span>\n",
       "</mark>\n",
       " \n",
       "<mark class=\"entity\" style=\"background: #bfe1d9; padding: 0.45em 0.6em; margin: 0 0.25em; line-height: 1; border-radius: 0.35em;\">\n",
       "    october\n",
       "    <span style=\"font-size: 0.8em; font-weight: bold; line-height: 1; border-radius: 0.35em; text-transform: uppercase; vertical-align: middle; margin-left: 0.5rem\">DATE</span>\n",
       "</mark>\n",
       " hacker stole \n",
       "<mark class=\"entity\" style=\"background: #e4e7d2; padding: 0.45em 0.6em; margin: 0 0.25em; line-height: 1; border-radius: 0.35em;\">\n",
       "    million\n",
       "    <span style=\"font-size: 0.8em; font-weight: bold; line-height: 1; border-radius: 0.35em; text-transform: uppercase; vertical-align: middle; margin-left: 0.5rem\">CARDINAL</span>\n",
       "</mark>\n",
       " worth cryptoc charnovember min readopinions expressed entrepreneur contributor ownthe cryptocurrency world prone hype whether grand scale ico boom bitcoin price charreuters staffa representation virtual currency bitcoin seen illustration taken \n",
       "<mark class=\"entity\" style=\"background: #bfe1d9; padding: 0.45em 0.6em; margin: 0 0.25em; line-height: 1; border-radius: 0.35em;\">\n",
       "    november\n",
       "    <span style=\"font-size: 0.8em; font-weight: bold; line-height: 1; border-radius: 0.35em; text-transform: uppercase; vertical-align: middle; margin-left: 0.5rem\">DATE</span>\n",
       "</mark>\n",
       " \n",
       "<mark class=\"entity\" style=\"background: #7aecec; padding: 0.45em 0.6em; margin: 0 0.25em; line-height: 1; border-radius: 0.35em;\">\n",
       "    reutersdado ruvicillustrationnew york\n",
       "    <span style=\"font-size: 0.8em; font-weight: bold; line-height: 1; border-radius: 0.35em; text-transform: uppercase; vertical-align: middle; margin-left: 0.5rem\">ORG</span>\n",
       "</mark>\n",
       " reuters bitcoin btcbtsp rose \n",
       "<mark class=\"entity\" style=\"background: #aa9cfc; padding: 0.45em 0.6em; margin: 0 0.25em; line-height: 1; border-radius: 0.35em;\">\n",
       "    n charreuters\n",
       "    <span style=\"font-size: 0.8em; font-weight: bold; line-height: 1; border-radius: 0.35em; text-transform: uppercase; vertical-align: middle; margin-left: 0.5rem\">PERSON</span>\n",
       "</mark>\n",
       " staffa representation virtual currency \n",
       "<mark class=\"entity\" style=\"background: #feca74; padding: 0.45em 0.6em; margin: 0 0.25em; line-height: 1; border-radius: 0.35em;\">\n",
       "    bitcoin\n",
       "    <span style=\"font-size: 0.8em; font-weight: bold; line-height: 1; border-radius: 0.35em; text-transform: uppercase; vertical-align: middle; margin-left: 0.5rem\">GPE</span>\n",
       "</mark>\n",
       " seen illustration taken \n",
       "<mark class=\"entity\" style=\"background: #bfe1d9; padding: 0.45em 0.6em; margin: 0 0.25em; line-height: 1; border-radius: 0.35em;\">\n",
       "    november\n",
       "    <span style=\"font-size: 0.8em; font-weight: bold; line-height: 1; border-radius: 0.35em; text-transform: uppercase; vertical-align: middle; margin-left: 0.5rem\">DATE</span>\n",
       "</mark>\n",
       " \n",
       "<mark class=\"entity\" style=\"background: #7aecec; padding: 0.45em 0.6em; margin: 0 0.25em; line-height: 1; border-radius: 0.35em;\">\n",
       "    reutersdado ruvicillustrationnew york\n",
       "    <span style=\"font-size: 0.8em; font-weight: bold; line-height: 1; border-radius: 0.35em; text-transform: uppercase; vertical-align: middle; margin-left: 0.5rem\">ORG</span>\n",
       "</mark>\n",
       " reuters bitcoin btcbtsp rose n charreuters stafffile photo representation virtual currency bitcoin seen illustration taken \n",
       "<mark class=\"entity\" style=\"background: #bfe1d9; padding: 0.45em 0.6em; margin: 0 0.25em; line-height: 1; border-radius: 0.35em;\">\n",
       "    november\n",
       "    <span style=\"font-size: 0.8em; font-weight: bold; line-height: 1; border-radius: 0.35em; text-transform: uppercase; vertical-align: middle; margin-left: 0.5rem\">DATE</span>\n",
       "</mark>\n",
       " reutersdado ruvicillustrationfile \n",
       "<mark class=\"entity\" style=\"background: #7aecec; padding: 0.45em 0.6em; margin: 0 0.25em; line-height: 1; border-radius: 0.35em;\">\n",
       "    photolondon reuters bitcoin\n",
       "    <span style=\"font-size: 0.8em; font-weight: bold; line-height: 1; border-radius: 0.35em; text-transform: uppercase; vertical-align: middle; margin-left: 0.5rem\">ORG</span>\n",
       "</mark>\n",
       " charreuters stafffile photo representation virtual currency bitcoin placed u dollar banknote illustration taken may \n",
       "<mark class=\"entity\" style=\"background: #aa9cfc; padding: 0.45em 0.6em; margin: 0 0.25em; line-height: 1; border-radius: 0.35em;\">\n",
       "    reutersdado ruvicillustrationlondon\n",
       "    <span style=\"font-size: 0.8em; font-weight: bold; line-height: 1; border-radius: 0.35em; text-transform: uppercase; vertical-align: middle; margin-left: 0.5rem\">PERSON</span>\n",
       "</mark>\n",
       " reuters \n",
       "<mark class=\"entity\" style=\"background: #feca74; padding: 0.45em 0.6em; margin: 0 0.25em; line-height: 1; border-radius: 0.35em;\">\n",
       "    charhala\n",
       "    <span style=\"font-size: 0.8em; font-weight: bold; line-height: 1; border-radius: 0.35em; text-transform: uppercase; vertical-align: middle; margin-left: 0.5rem\">GPE</span>\n",
       "</mark>\n",
       " system using \n",
       "<mark class=\"entity\" style=\"background: #7aecec; padding: 0.45em 0.6em; margin: 0 0.25em; line-height: 1; border-radius: 0.35em;\">\n",
       "    hedera\n",
       "    <span style=\"font-size: 0.8em; font-weight: bold; line-height: 1; border-radius: 0.35em; text-transform: uppercase; vertical-align: middle; margin-left: 0.5rem\">ORG</span>\n",
       "</mark>\n",
       " hashgraph secure alternative blockchain technology anchor system warns \n",
       "<mark class=\"entity\" style=\"background: #c887fb; padding: 0.45em 0.6em; margin: 0 0.25em; line-height: 1; border-radius: 0.35em;\">\n",
       "    syrian\n",
       "    <span style=\"font-size: 0.8em; font-weight: bold; line-height: 1; border-radius: 0.35em; text-transform: uppercase; vertical-align: middle; margin-left: 0.5rem\">NORP</span>\n",
       "</mark>\n",
       " impending conflict natural disastershala system social enter chartry reaching live customer support person paypal virtually impossible get hold thru automated phone systemimagine glitch cypto transfer ne charpaypal let buy sell cryptocurrencies like \n",
       "<mark class=\"entity\" style=\"background: #feca74; padding: 0.45em 0.6em; margin: 0 0.25em; line-height: 1; border-radius: 0.35em;\">\n",
       "    bitcoin\n",
       "    <span style=\"font-size: 0.8em; font-weight: bold; line-height: 1; border-radius: 0.35em; text-transform: uppercase; vertical-align: middle; margin-left: 0.5rem\">GPE</span>\n",
       "</mark>\n",
       " ethereum lot people excited speculated price bitcoin ha gone upbut payp charchain block erupters used \n",
       "<mark class=\"entity\" style=\"background: #feca74; padding: 0.45em 0.6em; margin: 0 0.25em; line-height: 1; border-radius: 0.35em;\">\n",
       "    bitcoin\n",
       "    <span style=\"font-size: 0.8em; font-weight: bold; line-height: 1; border-radius: 0.35em; text-transform: uppercase; vertical-align: middle; margin-left: 0.5rem\">GPE</span>\n",
       "</mark>\n",
       " mining pictured plug play \n",
       "<mark class=\"entity\" style=\"background: #ddd; padding: 0.45em 0.6em; margin: 0 0.25em; line-height: 1; border-radius: 0.35em;\">\n",
       "    tech center\n",
       "    <span style=\"font-size: 0.8em; font-weight: bold; line-height: 1; border-radius: 0.35em; text-transform: uppercase; vertical-align: middle; margin-left: 0.5rem\">FAC</span>\n",
       "</mark>\n",
       " \n",
       "<mark class=\"entity\" style=\"background: #feca74; padding: 0.45em 0.6em; margin: 0 0.25em; line-height: 1; border-radius: 0.35em;\">\n",
       "    sunnyvale\n",
       "    <span style=\"font-size: 0.8em; font-weight: bold; line-height: 1; border-radius: 0.35em; text-transform: uppercase; vertical-align: middle; margin-left: 0.5rem\">GPE</span>\n",
       "</mark>\n",
       " \n",
       "<mark class=\"entity\" style=\"background: #feca74; padding: 0.45em 0.6em; margin: 0 0.25em; line-height: 1; border-radius: 0.35em;\">\n",
       "    california\n",
       "    <span style=\"font-size: 0.8em; font-weight: bold; line-height: 1; border-radius: 0.35em; text-transform: uppercase; vertical-align: middle; margin-left: 0.5rem\">GPE</span>\n",
       "</mark>\n",
       " \n",
       "<mark class=\"entity\" style=\"background: #bfe1d9; padding: 0.45em 0.6em; margin: 0 0.25em; line-height: 1; border-radius: 0.35em;\">\n",
       "    october\n",
       "    <span style=\"font-size: 0.8em; font-weight: bold; line-height: 1; border-radius: 0.35em; text-transform: uppercase; vertical-align: middle; margin-left: 0.5rem\">DATE</span>\n",
       "</mark>\n",
       " \n",
       "<mark class=\"entity\" style=\"background: #aa9cfc; padding: 0.45em 0.6em; margin: 0 0.25em; line-height: 1; border-radius: 0.35em;\">\n",
       "    reutersstephen lamullibitcoin\n",
       "    <span style=\"font-size: 0.8em; font-weight: bold; line-height: 1; border-radius: 0.35em; text-transform: uppercase; vertical-align: middle; margin-left: 0.5rem\">PERSON</span>\n",
       "</mark>\n",
       " slumped throug charcomment response cost tiny eth fee ethereum cryptocurrency payable \n",
       "<mark class=\"entity\" style=\"background: #ddd; padding: 0.45em 0.6em; margin: 0 0.25em; line-height: 1; border-radius: 0.35em;\">\n",
       "    metamaskio wallet wallet\n",
       "    <span style=\"font-size: 0.8em; font-weight: bold; line-height: 1; border-radius: 0.35em; text-transform: uppercase; vertical-align: middle; margin-left: 0.5rem\">FAC</span>\n",
       "</mark>\n",
       " free take moment add browse char</div></span>"
      ],
      "text/plain": [
       "<IPython.core.display.HTML object>"
      ]
     },
     "metadata": {},
     "output_type": "display_data"
    }
   ],
   "source": [
    "# Render the visualization\n",
    "displacy.render(eth_ner, style = 'ent')"
   ]
  },
  {
   "cell_type": "code",
   "execution_count": 150,
   "metadata": {},
   "outputs": [
    {
     "name": "stdout",
     "output_type": "stream",
     "text": [
      "first ORDINAL\n",
      "october DATE\n",
      "february DATE\n",
      "reutersdado ruvicillustrationlondon ORG\n",
      "february DATE\n",
      "reutersdado ruvicillustrationlondon ORG\n",
      "reuters ORG\n",
      "charlondon PRODUCT\n",
      "reuters digital currency ORG\n",
      "monday DATE\n",
      "november DATE\n",
      "november DATE\n",
      "charnew york PERSON\n",
      "un ORG\n",
      "early february year DATE\n",
      "one CARDINAL\n",
      "last month DATE\n",
      "october DATE\n",
      "million CARDINAL\n",
      "november DATE\n",
      "reutersdado ruvicillustrationnew york ORG\n",
      "n charreuters PERSON\n",
      "bitcoin GPE\n",
      "november DATE\n",
      "reutersdado ruvicillustrationnew york ORG\n",
      "november DATE\n",
      "photolondon reuters bitcoin ORG\n",
      "reutersdado ruvicillustrationlondon PERSON\n",
      "charhala GPE\n",
      "hedera ORG\n",
      "syrian NORP\n",
      "bitcoin GPE\n",
      "bitcoin GPE\n",
      "tech center FAC\n",
      "sunnyvale GPE\n",
      "california GPE\n",
      "october DATE\n",
      "reutersstephen lamullibitcoin PERSON\n",
      "metamaskio wallet wallet FAC\n"
     ]
    }
   ],
   "source": [
    "# List all Entities\n",
    "for ent in eth_ner.ents:\n",
    "    print(ent.text, ent.label_)"
   ]
  },
  {
   "cell_type": "code",
   "execution_count": null,
   "metadata": {},
   "outputs": [],
   "source": []
  },
  {
   "cell_type": "code",
   "execution_count": null,
   "metadata": {},
   "outputs": [],
   "source": []
  }
 ],
 "metadata": {
  "kernelspec": {
   "display_name": "Python 3",
   "language": "python",
   "name": "python3"
  },
  "language_info": {
   "codemirror_mode": {
    "name": "ipython",
    "version": 3
   },
   "file_extension": ".py",
   "mimetype": "text/x-python",
   "name": "python",
   "nbconvert_exporter": "python",
   "pygments_lexer": "ipython3",
   "version": "3.7.7"
  }
 },
 "nbformat": 4,
 "nbformat_minor": 4
}
